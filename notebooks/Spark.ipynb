{
 "cells": [
  {
   "cell_type": "code",
   "execution_count": 9,
   "metadata": {
    "scrolled": true
   },
   "outputs": [
    {
     "name": "stdout",
     "output_type": "stream",
     "text": [
      "The autoreload extension is already loaded. To reload it, use:\n",
      "  %reload_ext autoreload\n"
     ]
    }
   ],
   "source": [
    "%load_ext autoreload\n",
    "%autoreload 2\n",
    "\n",
    "import pandas as pd\n",
    "import pyspark\n",
    "import numpy as np\n",
    "import pyspark.sql.functions as sf\n",
    "import matplotlib.pyplot as plt\n",
    "%matplotlib inline\n",
    "\n",
    "\n",
    "import logging\n",
    "logging.basicConfig(level=logging.INFO)\n",
    "\n",
    "# Create spark session\n",
    "spark = (pyspark.sql.SparkSession.builder.getOrCreate())\n",
    "\n",
    "sc = spark.sparkContext"
   ]
  },
  {
   "cell_type": "code",
   "execution_count": 3,
   "metadata": {},
   "outputs": [],
   "source": [
    "from pyspark.sql.dataframe import DataFrame\n",
    "\n",
    "def pipe(df, f, *args, **kwargs):\n",
    "    return f(df, *args, **kwargs)\n",
    "\n",
    "DataFrame.pipe = pipe"
   ]
  },
  {
   "cell_type": "code",
   "execution_count": 137,
   "metadata": {},
   "outputs": [],
   "source": [
    "from formula1 import pyspark_preprocessing"
   ]
  },
  {
   "cell_type": "code",
   "execution_count": 138,
   "metadata": {},
   "outputs": [],
   "source": [
    "work_df = (\n",
    "    pyspark_preprocessing.read_data()\n",
    "    .pipe(pyspark_preprocessing.join_constructors)\n",
    "    .pipe(pyspark_preprocessing.join_drivers)\n",
    "    .pipe(pyspark_preprocessing.join_races)\n",
    "    .pipe(pyspark_preprocessing.join_status)\n",
    "    .pipe(pyspark_preprocessing.drop_columns)\n",
    "    .pipe(pyspark_preprocessing.sort_races)\n",
    ")"
   ]
  },
  {
   "cell_type": "code",
   "execution_count": 139,
   "metadata": {
    "scrolled": true
   },
   "outputs": [
    {
     "name": "stdout",
     "output_type": "stream",
     "text": [
      "+--------+------+--------+-------------+------+----+--------+-------------+------+----+------------+----------+----+--------------+---------------+--------------+-----------+-----------+--------------+------+--------+--------------+-----------+----+-----+---------+------------------+-------------------+--------------+\n",
      "|statusId|raceId|driverId|constructorId|number|grid|position|positionOrder|points|laps|milliseconds|fastestLap|rank|fastestLapTime|fastestLapSpeed|constructorRef|       name|nationality|     driverRef|number|forename|       surname|nationality|year|round|circuitId|              name|               date|        status|\n",
      "+--------+------+--------+-------------+------+----+--------+-------------+------+----+------------+----------+----+--------------+---------------+--------------+-----------+-----------+--------------+------+--------+--------------+-----------+----+-----+---------+------------------+-------------------+--------------+\n",
      "|       1|   833|     642|           51|     2|   1|       1|            1|   9.0|  70|     8003600|      null|null|          null|           null|          alfa| Alfa Romeo|    Italian|        farina|  null|    Nino|        Farina|    Italian|1950|    1|        9|British Grand Prix|1950-05-13 00:00:00|      Finished|\n",
      "|     126|   833|     790|          151|     8|  12|    null|           21|   0.0|   2|        null|      null|null|          null|           null|           era|        ERA|    British|leslie_johnson|  null|  Leslie|       Johnson|    British|1950|    1|        9|British Grand Prix|1950-05-13 00:00:00|  Supercharger|\n",
      "|       1|   833|     786|           51|     3|   2|       2|            2|   6.0|  70|     8006200|      null|null|          null|           null|          alfa| Alfa Romeo|    Italian|       fagioli|  null|   Luigi|       Fagioli|    Italian|1950|    1|        9|British Grand Prix|1950-05-13 00:00:00|      Finished|\n",
      "|       1|   833|     686|           51|     4|   4|       3|            3|   4.0|  70|     8055600|      null|null|          null|           null|          alfa| Alfa Romeo|    Italian|   reg_parnell|  null|     Reg|       Parnell|    British|1950|    1|        9|British Grand Prix|1950-05-13 00:00:00|      Finished|\n",
      "|      12|   833|     704|          154|    14|   6|       4|            4|   3.0|  68|        null|      null|null|          null|           null|          lago|Talbot-Lago|     French|     cabantous|  null|    Yves|     Cabantous|     French|1950|    1|        9|British Grand Prix|1950-05-13 00:00:00|       +2 Laps|\n",
      "|      12|   833|     627|          154|    15|   9|       5|            5|   2.0|  68|        null|      null|null|          null|           null|          lago|Talbot-Lago|     French|        rosier|  null|   Louis|        Rosier|     French|1950|    1|        9|British Grand Prix|1950-05-13 00:00:00|       +2 Laps|\n",
      "|      13|   833|     619|          151|    12|  13|       6|            6|   0.0|  67|        null|      null|null|          null|           null|           era|        ERA|    British|        gerard|  null|     Bob|        Gerard|    British|1950|    1|        9|British Grand Prix|1950-05-13 00:00:00|       +3 Laps|\n",
      "|      13|   833|     787|          151|    11|  15|       7|            7|   0.0|  67|        null|      null|null|          null|           null|           era|        ERA|    British|      harrison|  null|    Cuth|      Harrison|    British|1950|    1|        9|British Grand Prix|1950-05-13 00:00:00|       +3 Laps|\n",
      "|      15|   833|     741|          154|    16|  14|       8|            8|   0.0|  65|        null|      null|null|          null|           null|          lago|Talbot-Lago|     French|     etancelin|  null|Philippe|    Ìätancelin|     French|1950|    1|        9|British Grand Prix|1950-05-13 00:00:00|       +5 Laps|\n",
      "|      16|   833|     784|          105|     6|  16|       9|            9|   0.0|  64|        null|      null|null|          null|           null|      maserati|   Maserati|    Italian|     hampshire|  null|   David|     Hampshire|    British|1950|    1|        9|British Grand Prix|1950-05-13 00:00:00|       +6 Laps|\n",
      "|      16|   833|     778|          105|    10|  20|      10|           10|   0.0|  64|        null|      null|null|          null|           null|      maserati|   Maserati|    Italian|  shawe_taylor|  null|   Brian|  Shawe Taylor|    British|1950|    1|        9|British Grand Prix|1950-05-13 00:00:00|       +6 Laps|\n",
      "|      16|   833|     660|          154|    18|  21|      11|           11|   0.0|  64|        null|      null|null|          null|           null|          lago|Talbot-Lago|     French|         claes|  null|  Johnny|         Claes|    Belgian|1950|    1|        9|British Grand Prix|1950-05-13 00:00:00|       +6 Laps|\n",
      "|      44|   833|     579|           51|     1|   3|    null|           12|   0.0|  62|        null|      null|null|          null|           null|          alfa| Alfa Romeo|    Italian|        fangio|  null|    Juan|        Fangio|  Argentine|1950|    1|        9|British Grand Prix|1950-05-13 00:00:00|      Oil leak|\n",
      "|      62|   833|     776|          126|    23|  19|    null|           13|   0.0|  57|        null|      null|null|          null|           null|          alta|       Alta|    British|         kelly|  null|     Joe|         Kelly|      Irish|1950|    1|        9|British Grand Prix|1950-05-13 00:00:00|Not classified|\n",
      "|      60|   833|     669|          105|    21|   5|    null|           14|   0.0|  49|        null|      null|null|          null|           null|      maserati|   Maserati|    Italian|          bira|  null|  Prince|          Bira|       Thai|1950|    1|        9|British Grand Prix|1950-05-13 00:00:00|   Out of fuel|\n",
      "|       5|   833|     747|          105|     5|  18|    null|           15|   0.0|  44|        null|      null|null|          null|           null|      maserati|   Maserati|    Italian|        murray|  null|   David|        Murray|    British|1950|    1|        9|British Grand Prix|1950-05-13 00:00:00|        Engine|\n",
      "|       7|   833|     785|          126|    24|  17|    null|           16|   0.0|  43|        null|      null|null|          null|           null|          alta|       Alta|    British|      crossley|  null|   Geoff|      Crossley|    British|1950|    1|        9|British Grand Prix|1950-05-13 00:00:00|  Transmission|\n",
      "|       5|   833|     640|          105|    20|   8|    null|           17|   0.0|  36|        null|      null|null|          null|           null|      maserati|   Maserati|    Italian|   graffenried|  null|   Toulo|de Graffenried|      Swiss|1950|    1|        9|British Grand Prix|1950-05-13 00:00:00|        Engine|\n",
      "|       8|   833|     589|          105|    19|  11|    null|           18|   0.0|  26|        null|      null|null|          null|           null|      maserati|   Maserati|    Italian|        chiron|  null|   Louis|        Chiron| Monegasque|1950|    1|        9|British Grand Prix|1950-05-13 00:00:00|        Clutch|\n",
      "|      51|   833|     789|          154|    17|   7|    null|           19|   0.0|   8|        null|      null|null|          null|           null|          lago|Talbot-Lago|     French|        martin|  null| EugÌ¬ne|        Martin|     French|1950|    1|        9|British Grand Prix|1950-05-13 00:00:00|  Oil pressure|\n",
      "+--------+------+--------+-------------+------+----+--------+-------------+------+----+------------+----------+----+--------------+---------------+--------------+-----------+-----------+--------------+------+--------+--------------+-----------+----+-----+---------+------------------+-------------------+--------------+\n",
      "only showing top 20 rows\n",
      "\n"
     ]
    }
   ],
   "source": [
    "work_df.show()"
   ]
  },
  {
   "cell_type": "code",
   "execution_count": 118,
   "metadata": {
    "scrolled": false
   },
   "outputs": [
    {
     "data": {
      "text/plain": [
       "['statusId',\n",
       " 'raceId',\n",
       " 'driverId',\n",
       " 'constructorId',\n",
       " 'number',\n",
       " 'grid',\n",
       " 'position',\n",
       " 'positionOrder',\n",
       " 'points',\n",
       " 'laps',\n",
       " 'milliseconds',\n",
       " 'fastestLap',\n",
       " 'rank',\n",
       " 'fastestLapTime',\n",
       " 'fastestLapSpeed',\n",
       " 'constructorRef',\n",
       " 'name',\n",
       " 'nationality',\n",
       " 'driverRef',\n",
       " 'number',\n",
       " 'forename',\n",
       " 'surname',\n",
       " 'nationality',\n",
       " 'year',\n",
       " 'round',\n",
       " 'circuitId',\n",
       " 'name',\n",
       " 'date',\n",
       " 'status']"
      ]
     },
     "execution_count": 118,
     "metadata": {},
     "output_type": "execute_result"
    }
   ],
   "source": [
    "work_df.columns"
   ]
  },
  {
   "cell_type": "code",
   "execution_count": null,
   "metadata": {},
   "outputs": [],
   "source": [
    "@log_step\n",
    "def average_finishing(df):\n",
    "    return df.assign(\n",
    "        mean_position_till_date = lambda df: df.groupby('driverId')['positionOrder']\n",
    "        .transform(lambda df: df.shift(1).expanding().mean())\n",
    "    )"
   ]
  },
  {
   "cell_type": "code",
   "execution_count": 140,
   "metadata": {},
   "outputs": [],
   "source": [
    "from pyspark.sql.window import Window"
   ]
  },
  {
   "cell_type": "code",
   "execution_count": 189,
   "metadata": {},
   "outputs": [],
   "source": [
    "def diff_between_races(df):\n",
    "    window = Window.partitionBy('driverId').orderBy('raceId')\n",
    "    \n",
    "    return df.withColumn('difference_races', sf.col('positionOrder') - sf.lag(sf.col('positionOrder')).over(window))"
   ]
  },
  {
   "cell_type": "code",
   "execution_count": 190,
   "metadata": {},
   "outputs": [],
   "source": [
    "x = diff_between_races(work_df)"
   ]
  },
  {
   "cell_type": "code",
   "execution_count": 193,
   "metadata": {},
   "outputs": [
    {
     "name": "stdout",
     "output_type": "stream",
     "text": [
      "+--------+------+--------+-------------+------+----+--------+-------------+------+----+------------+----------+----+--------------+---------------+--------------+---------+-----------+---------+------+--------+-------+-----------+----+-----+---------+--------------------+-------------------+------------------+----------------+\n",
      "|statusId|raceId|driverId|constructorId|number|grid|position|positionOrder|points|laps|milliseconds|fastestLap|rank|fastestLapTime|fastestLapSpeed|constructorRef|     name|nationality|driverRef|number|forename|surname|nationality|year|round|circuitId|                name|               date|            status|difference_races|\n",
      "+--------+------+--------+-------------+------+----+--------+-------------+------+----+------------+----------+----+--------------+---------------+--------------+---------+-----------+---------+------+--------+-------+-----------+----+-----+---------+--------------------+-------------------+------------------+----------------+\n",
      "|       3|   321|     148|           34|     7|  23|    null|           19|   0.0|  39|        null|      null|null|          null|           null|       brabham|  Brabham|    British|   foitek|  null|  Gregor| Foitek|      Swiss|1990|    1|       33|United States Gra...|1990-03-11 00:00:00|          Accident|            null|\n",
      "|       7|   322|     148|           34|     7|  22|    null|           23|   0.0|  14|        null|      null|null|          null|           null|       brabham|  Brabham|    British|   foitek|  null|  Gregor| Foitek|      Swiss|1990|    2|       18|Brazilian Grand Prix|1990-03-25 00:00:00|      Transmission|               4|\n",
      "|       5|   323|     148|           46|    35|  23|    null|           16|   0.0|  35|        null|      null|null|          null|           null|          onyx|     Onyx|    British|   foitek|  null|  Gregor| Foitek|      Swiss|1990|    3|       21|San Marino Grand ...|1990-05-13 00:00:00|            Engine|              -7|\n",
      "|       4|   324|     148|           46|    35|  20|       7|            7|   0.0|  72|        null|      null|null|          null|           null|          onyx|     Onyx|    British|   foitek|  null|  Gregor| Foitek|      Swiss|1990|    4|        6|   Monaco Grand Prix|1990-05-27 00:00:00|         Collision|              -9|\n",
      "|       5|   325|     148|           46|    35|  21|    null|           15|   0.0|  53|        null|      null|null|          null|           null|          onyx|     Onyx|    British|   foitek|  null|  Gregor| Foitek|      Swiss|1990|    5|        7| Canadian Grand Prix|1990-06-10 00:00:00|            Engine|               8|\n",
      "|      12|   326|     148|           46|    35|  23|      15|           15|   0.0|  67|        null|      null|null|          null|           null|          onyx|     Onyx|    British|   foitek|  null|  Gregor| Foitek|      Swiss|1990|    6|       32|  Mexican Grand Prix|1990-06-24 00:00:00|           +2 Laps|               0|\n",
      "|      81|   327|     148|           46|    35|   0|    null|           29|   0.0|   0|        null|      null|null|          null|           null|          onyx|     Onyx|    British|   foitek|  null|  Gregor| Foitek|      Swiss|1990|    7|       34|   French Grand Prix|1990-07-08 00:00:00|   Did not qualify|              14|\n",
      "|      81|   328|     148|           46|    35|   0|    null|           30|   0.0|   0|        null|      null|null|          null|           null|          onyx|     Onyx|    British|   foitek|  null|  Gregor| Foitek|      Swiss|1990|    8|        9|  British Grand Prix|1990-07-15 00:00:00|   Did not qualify|               1|\n",
      "|      20|   329|     148|           46|    35|  26|    null|           18|   0.0|  19|        null|      null|null|          null|           null|          onyx|     Onyx|    British|   foitek|  null|  Gregor| Foitek|      Swiss|1990|    9|       10|   German Grand Prix|1990-07-29 00:00:00|          Spun off|             -12|\n",
      "|      81|   330|     148|           46|    35|   0|    null|           30|   0.0|   0|        null|      null|null|          null|           null|          onyx|     Onyx|    British|   foitek|  null|  Gregor| Foitek|      Swiss|1990|   10|       11|Hungarian Grand Prix|1990-08-12 00:00:00|   Did not qualify|              12|\n",
      "|      81|   356|     148|           44|    33|   0|    null|           29|   0.0|   0|        null|      null|null|          null|           null|      eurobrun|Euro Brun|    Italian|   foitek|  null|  Gregor| Foitek|      Swiss|1989|    1|       36|Brazilian Grand Prix|1989-03-26 00:00:00|   Did not qualify|              -1|\n",
      "|      97|   357|     148|           44|    33|   0|    null|           32|   0.0|   0|        null|      null|null|          null|           null|      eurobrun|Euro Brun|    Italian|   foitek|  null|  Gregor| Foitek|      Swiss|1989|    2|       21|San Marino Grand ...|1989-04-23 00:00:00|Did not prequalify|               3|\n",
      "|      97|   358|     148|           44|    33|   0|    null|           35|   0.0|   0|        null|      null|null|          null|           null|      eurobrun|Euro Brun|    Italian|   foitek|  null|  Gregor| Foitek|      Swiss|1989|    3|        6|   Monaco Grand Prix|1989-05-07 00:00:00|Did not prequalify|               3|\n",
      "|      97|   359|     148|           44|    33|   0|    null|           32|   0.0|   0|        null|      null|null|          null|           null|      eurobrun|Euro Brun|    Italian|   foitek|  null|  Gregor| Foitek|      Swiss|1989|    4|       32|  Mexican Grand Prix|1989-05-28 00:00:00|Did not prequalify|              -3|\n",
      "|      97|   360|     148|           44|    33|   0|    null|           33|   0.0|   0|        null|      null|null|          null|           null|      eurobrun|Euro Brun|    Italian|   foitek|  null|  Gregor| Foitek|      Swiss|1989|    5|       33|United States Gra...|1989-06-04 00:00:00|Did not prequalify|               1|\n",
      "|      97|   361|     148|           44|    33|   0|    null|           33|   0.0|   0|        null|      null|null|          null|           null|      eurobrun|Euro Brun|    Italian|   foitek|  null|  Gregor| Foitek|      Swiss|1989|    6|        7| Canadian Grand Prix|1989-06-18 00:00:00|Did not prequalify|               0|\n",
      "|      97|   362|     148|           44|    33|   0|    null|           38|   0.0|   0|        null|      null|null|          null|           null|      eurobrun|Euro Brun|    Italian|   foitek|  null|  Gregor| Foitek|      Swiss|1989|    7|       34|   French Grand Prix|1989-07-09 00:00:00|Did not prequalify|               5|\n",
      "|      97|   363|     148|           44|    33|   0|    null|           33|   0.0|   0|        null|      null|null|          null|           null|      eurobrun|Euro Brun|    Italian|   foitek|  null|  Gregor| Foitek|      Swiss|1989|    8|        9|  British Grand Prix|1989-07-16 00:00:00|Did not prequalify|              -5|\n",
      "|      97|   364|     148|           44|    33|   0|    null|           37|   0.0|   0|        null|      null|null|          null|           null|      eurobrun|Euro Brun|    Italian|   foitek|  null|  Gregor| Foitek|      Swiss|1989|    9|       10|   German Grand Prix|1989-07-30 00:00:00|Did not prequalify|               4|\n",
      "|      97|   365|     148|           44|    33|   0|    null|           37|   0.0|   0|        null|      null|null|          null|           null|      eurobrun|Euro Brun|    Italian|   foitek|  null|  Gregor| Foitek|      Swiss|1989|   10|       11|Hungarian Grand Prix|1989-08-13 00:00:00|Did not prequalify|               0|\n",
      "+--------+------+--------+-------------+------+----+--------+-------------+------+----+------------+----------+----+--------------+---------------+--------------+---------+-----------+---------+------+--------+-------+-----------+----+-----+---------+--------------------+-------------------+------------------+----------------+\n",
      "only showing top 20 rows\n",
      "\n"
     ]
    }
   ],
   "source": [
    "x.show()"
   ]
  },
  {
   "cell_type": "code",
   "execution_count": null,
   "metadata": {},
   "outputs": [],
   "source": []
  },
  {
   "cell_type": "code",
   "execution_count": null,
   "metadata": {},
   "outputs": [],
   "source": []
  },
  {
   "cell_type": "code",
   "execution_count": 184,
   "metadata": {},
   "outputs": [],
   "source": [
    "def average_finishing(df):\n",
    "    window =  Window.partitionBy('driverId')\n",
    "    \n",
    "    return df.withColumn('mean_position_till_date', sf.avg('positionOrder').over(window))"
   ]
  },
  {
   "cell_type": "code",
   "execution_count": null,
   "metadata": {},
   "outputs": [],
   "source": [
    "sf.lag('temperature').over(mid_window))"
   ]
  },
  {
   "cell_type": "code",
   "execution_count": 183,
   "metadata": {},
   "outputs": [
    {
     "name": "stdout",
     "output_type": "stream",
     "text": [
      "+--------+------+--------+-------------+------+----+--------+-------------+------+----+------------+----------+----+--------------+---------------+--------------+-----------+-----------+--------------+------+--------+--------------+-----------+----+-----+---------+------------------+-------------------+--------------+\n",
      "|statusId|raceId|driverId|constructorId|number|grid|position|positionOrder|points|laps|milliseconds|fastestLap|rank|fastestLapTime|fastestLapSpeed|constructorRef|       name|nationality|     driverRef|number|forename|       surname|nationality|year|round|circuitId|              name|               date|        status|\n",
      "+--------+------+--------+-------------+------+----+--------+-------------+------+----+------------+----------+----+--------------+---------------+--------------+-----------+-----------+--------------+------+--------+--------------+-----------+----+-----+---------+------------------+-------------------+--------------+\n",
      "|       1|   833|     642|           51|     2|   1|       1|            1|   9.0|  70|     8003600|      null|null|          null|           null|          alfa| Alfa Romeo|    Italian|        farina|  null|    Nino|        Farina|    Italian|1950|    1|        9|British Grand Prix|1950-05-13 00:00:00|      Finished|\n",
      "|     126|   833|     790|          151|     8|  12|    null|           21|   0.0|   2|        null|      null|null|          null|           null|           era|        ERA|    British|leslie_johnson|  null|  Leslie|       Johnson|    British|1950|    1|        9|British Grand Prix|1950-05-13 00:00:00|  Supercharger|\n",
      "|       1|   833|     786|           51|     3|   2|       2|            2|   6.0|  70|     8006200|      null|null|          null|           null|          alfa| Alfa Romeo|    Italian|       fagioli|  null|   Luigi|       Fagioli|    Italian|1950|    1|        9|British Grand Prix|1950-05-13 00:00:00|      Finished|\n",
      "|       1|   833|     686|           51|     4|   4|       3|            3|   4.0|  70|     8055600|      null|null|          null|           null|          alfa| Alfa Romeo|    Italian|   reg_parnell|  null|     Reg|       Parnell|    British|1950|    1|        9|British Grand Prix|1950-05-13 00:00:00|      Finished|\n",
      "|      12|   833|     704|          154|    14|   6|       4|            4|   3.0|  68|        null|      null|null|          null|           null|          lago|Talbot-Lago|     French|     cabantous|  null|    Yves|     Cabantous|     French|1950|    1|        9|British Grand Prix|1950-05-13 00:00:00|       +2 Laps|\n",
      "|      12|   833|     627|          154|    15|   9|       5|            5|   2.0|  68|        null|      null|null|          null|           null|          lago|Talbot-Lago|     French|        rosier|  null|   Louis|        Rosier|     French|1950|    1|        9|British Grand Prix|1950-05-13 00:00:00|       +2 Laps|\n",
      "|      13|   833|     619|          151|    12|  13|       6|            6|   0.0|  67|        null|      null|null|          null|           null|           era|        ERA|    British|        gerard|  null|     Bob|        Gerard|    British|1950|    1|        9|British Grand Prix|1950-05-13 00:00:00|       +3 Laps|\n",
      "|      13|   833|     787|          151|    11|  15|       7|            7|   0.0|  67|        null|      null|null|          null|           null|           era|        ERA|    British|      harrison|  null|    Cuth|      Harrison|    British|1950|    1|        9|British Grand Prix|1950-05-13 00:00:00|       +3 Laps|\n",
      "|      15|   833|     741|          154|    16|  14|       8|            8|   0.0|  65|        null|      null|null|          null|           null|          lago|Talbot-Lago|     French|     etancelin|  null|Philippe|    Ìätancelin|     French|1950|    1|        9|British Grand Prix|1950-05-13 00:00:00|       +5 Laps|\n",
      "|      16|   833|     784|          105|     6|  16|       9|            9|   0.0|  64|        null|      null|null|          null|           null|      maserati|   Maserati|    Italian|     hampshire|  null|   David|     Hampshire|    British|1950|    1|        9|British Grand Prix|1950-05-13 00:00:00|       +6 Laps|\n",
      "|      16|   833|     778|          105|    10|  20|      10|           10|   0.0|  64|        null|      null|null|          null|           null|      maserati|   Maserati|    Italian|  shawe_taylor|  null|   Brian|  Shawe Taylor|    British|1950|    1|        9|British Grand Prix|1950-05-13 00:00:00|       +6 Laps|\n",
      "|      16|   833|     660|          154|    18|  21|      11|           11|   0.0|  64|        null|      null|null|          null|           null|          lago|Talbot-Lago|     French|         claes|  null|  Johnny|         Claes|    Belgian|1950|    1|        9|British Grand Prix|1950-05-13 00:00:00|       +6 Laps|\n",
      "|      44|   833|     579|           51|     1|   3|    null|           12|   0.0|  62|        null|      null|null|          null|           null|          alfa| Alfa Romeo|    Italian|        fangio|  null|    Juan|        Fangio|  Argentine|1950|    1|        9|British Grand Prix|1950-05-13 00:00:00|      Oil leak|\n",
      "|      62|   833|     776|          126|    23|  19|    null|           13|   0.0|  57|        null|      null|null|          null|           null|          alta|       Alta|    British|         kelly|  null|     Joe|         Kelly|      Irish|1950|    1|        9|British Grand Prix|1950-05-13 00:00:00|Not classified|\n",
      "|      60|   833|     669|          105|    21|   5|    null|           14|   0.0|  49|        null|      null|null|          null|           null|      maserati|   Maserati|    Italian|          bira|  null|  Prince|          Bira|       Thai|1950|    1|        9|British Grand Prix|1950-05-13 00:00:00|   Out of fuel|\n",
      "|       5|   833|     747|          105|     5|  18|    null|           15|   0.0|  44|        null|      null|null|          null|           null|      maserati|   Maserati|    Italian|        murray|  null|   David|        Murray|    British|1950|    1|        9|British Grand Prix|1950-05-13 00:00:00|        Engine|\n",
      "|       7|   833|     785|          126|    24|  17|    null|           16|   0.0|  43|        null|      null|null|          null|           null|          alta|       Alta|    British|      crossley|  null|   Geoff|      Crossley|    British|1950|    1|        9|British Grand Prix|1950-05-13 00:00:00|  Transmission|\n",
      "|       5|   833|     640|          105|    20|   8|    null|           17|   0.0|  36|        null|      null|null|          null|           null|      maserati|   Maserati|    Italian|   graffenried|  null|   Toulo|de Graffenried|      Swiss|1950|    1|        9|British Grand Prix|1950-05-13 00:00:00|        Engine|\n",
      "|       8|   833|     589|          105|    19|  11|    null|           18|   0.0|  26|        null|      null|null|          null|           null|      maserati|   Maserati|    Italian|        chiron|  null|   Louis|        Chiron| Monegasque|1950|    1|        9|British Grand Prix|1950-05-13 00:00:00|        Clutch|\n",
      "|      51|   833|     789|          154|    17|   7|    null|           19|   0.0|   8|        null|      null|null|          null|           null|          lago|Talbot-Lago|     French|        martin|  null| EugÌ¬ne|        Martin|     French|1950|    1|        9|British Grand Prix|1950-05-13 00:00:00|  Oil pressure|\n",
      "+--------+------+--------+-------------+------+----+--------+-------------+------+----+------------+----------+----+--------------+---------------+--------------+-----------+-----------+--------------+------+--------+--------------+-----------+----+-----+---------+------------------+-------------------+--------------+\n",
      "only showing top 20 rows\n",
      "\n"
     ]
    }
   ],
   "source": [
    "work_df.show()"
   ]
  },
  {
   "cell_type": "code",
   "execution_count": 180,
   "metadata": {},
   "outputs": [],
   "source": [
    "def average_finishing_test(df):\n",
    "    window =  Window.partitionBy('driverId')\n",
    "    \n",
    "    return df.withColumn('lagged_by_one', sf.lag('positionOrder').over(window))"
   ]
  },
  {
   "cell_type": "code",
   "execution_count": 181,
   "metadata": {},
   "outputs": [
    {
     "ename": "AnalysisException",
     "evalue": "'Window function lag(positionOrder#6326, 1, null) requires window to be ordered, please add ORDER BY clause. For example SELECT lag(positionOrder#6326, 1, null)(value_expr) OVER (PARTITION BY window_partition ORDER BY window_ordering) from table;'",
     "output_type": "error",
     "traceback": [
      "\u001b[0;31m---------------------------------------------------------------------------\u001b[0m",
      "\u001b[0;31mPy4JJavaError\u001b[0m                             Traceback (most recent call last)",
      "\u001b[0;32m~/Desktop/Projects/formula1/venv/lib/python3.7/site-packages/pyspark/sql/utils.py\u001b[0m in \u001b[0;36mdeco\u001b[0;34m(*a, **kw)\u001b[0m\n\u001b[1;32m     62\u001b[0m         \u001b[0;32mtry\u001b[0m\u001b[0;34m:\u001b[0m\u001b[0;34m\u001b[0m\u001b[0;34m\u001b[0m\u001b[0m\n\u001b[0;32m---> 63\u001b[0;31m             \u001b[0;32mreturn\u001b[0m \u001b[0mf\u001b[0m\u001b[0;34m(\u001b[0m\u001b[0;34m*\u001b[0m\u001b[0ma\u001b[0m\u001b[0;34m,\u001b[0m \u001b[0;34m**\u001b[0m\u001b[0mkw\u001b[0m\u001b[0;34m)\u001b[0m\u001b[0;34m\u001b[0m\u001b[0;34m\u001b[0m\u001b[0m\n\u001b[0m\u001b[1;32m     64\u001b[0m         \u001b[0;32mexcept\u001b[0m \u001b[0mpy4j\u001b[0m\u001b[0;34m.\u001b[0m\u001b[0mprotocol\u001b[0m\u001b[0;34m.\u001b[0m\u001b[0mPy4JJavaError\u001b[0m \u001b[0;32mas\u001b[0m \u001b[0me\u001b[0m\u001b[0;34m:\u001b[0m\u001b[0;34m\u001b[0m\u001b[0;34m\u001b[0m\u001b[0m\n",
      "\u001b[0;32m~/Desktop/Projects/formula1/venv/lib/python3.7/site-packages/py4j/protocol.py\u001b[0m in \u001b[0;36mget_return_value\u001b[0;34m(answer, gateway_client, target_id, name)\u001b[0m\n\u001b[1;32m    327\u001b[0m                     \u001b[0;34m\"An error occurred while calling {0}{1}{2}.\\n\"\u001b[0m\u001b[0;34m.\u001b[0m\u001b[0;34m\u001b[0m\u001b[0;34m\u001b[0m\u001b[0m\n\u001b[0;32m--> 328\u001b[0;31m                     format(target_id, \".\", name), value)\n\u001b[0m\u001b[1;32m    329\u001b[0m             \u001b[0;32melse\u001b[0m\u001b[0;34m:\u001b[0m\u001b[0;34m\u001b[0m\u001b[0;34m\u001b[0m\u001b[0m\n",
      "\u001b[0;31mPy4JJavaError\u001b[0m: An error occurred while calling o1342.withColumn.\n: org.apache.spark.sql.AnalysisException: Window function lag(positionOrder#6326, 1, null) requires window to be ordered, please add ORDER BY clause. For example SELECT lag(positionOrder#6326, 1, null)(value_expr) OVER (PARTITION BY window_partition ORDER BY window_ordering) from table;\n\tat org.apache.spark.sql.catalyst.analysis.CheckAnalysis$class.failAnalysis(CheckAnalysis.scala:42)\n\tat org.apache.spark.sql.catalyst.analysis.Analyzer.failAnalysis(Analyzer.scala:95)\n\tat org.apache.spark.sql.catalyst.analysis.Analyzer$ResolveWindowOrder$$anonfun$apply$33.applyOrElse(Analyzer.scala:2208)\n\tat org.apache.spark.sql.catalyst.analysis.Analyzer$ResolveWindowOrder$$anonfun$apply$33.applyOrElse(Analyzer.scala:2206)\n\tat org.apache.spark.sql.catalyst.trees.TreeNode$$anonfun$2.apply(TreeNode.scala:256)\n\tat org.apache.spark.sql.catalyst.trees.TreeNode$$anonfun$2.apply(TreeNode.scala:256)\n\tat org.apache.spark.sql.catalyst.trees.CurrentOrigin$.withOrigin(TreeNode.scala:70)\n\tat org.apache.spark.sql.catalyst.trees.TreeNode.transformDown(TreeNode.scala:255)\n\tat org.apache.spark.sql.catalyst.trees.TreeNode$$anonfun$transformDown$1.apply(TreeNode.scala:261)\n\tat org.apache.spark.sql.catalyst.trees.TreeNode$$anonfun$transformDown$1.apply(TreeNode.scala:261)\n\tat org.apache.spark.sql.catalyst.trees.TreeNode$$anonfun$4.apply(TreeNode.scala:326)\n\tat org.apache.spark.sql.catalyst.trees.TreeNode.mapProductIterator(TreeNode.scala:187)\n\tat org.apache.spark.sql.catalyst.trees.TreeNode.mapChildren(TreeNode.scala:324)\n\tat org.apache.spark.sql.catalyst.trees.TreeNode.transformDown(TreeNode.scala:261)\n\tat org.apache.spark.sql.catalyst.plans.QueryPlan$$anonfun$transformExpressionsDown$1.apply(QueryPlan.scala:83)\n\tat org.apache.spark.sql.catalyst.plans.QueryPlan$$anonfun$transformExpressionsDown$1.apply(QueryPlan.scala:83)\n\tat org.apache.spark.sql.catalyst.plans.QueryPlan$$anonfun$1.apply(QueryPlan.scala:105)\n\tat org.apache.spark.sql.catalyst.plans.QueryPlan$$anonfun$1.apply(QueryPlan.scala:105)\n\tat org.apache.spark.sql.catalyst.trees.CurrentOrigin$.withOrigin(TreeNode.scala:70)\n\tat org.apache.spark.sql.catalyst.plans.QueryPlan.transformExpression$1(QueryPlan.scala:104)\n\tat org.apache.spark.sql.catalyst.plans.QueryPlan.org$apache$spark$sql$catalyst$plans$QueryPlan$$recursiveTransform$1(QueryPlan.scala:116)\n\tat org.apache.spark.sql.catalyst.plans.QueryPlan$$anonfun$org$apache$spark$sql$catalyst$plans$QueryPlan$$recursiveTransform$1$2.apply(QueryPlan.scala:121)\n\tat scala.collection.TraversableLike$$anonfun$map$1.apply(TraversableLike.scala:234)\n\tat scala.collection.TraversableLike$$anonfun$map$1.apply(TraversableLike.scala:234)\n\tat scala.collection.mutable.ResizableArray$class.foreach(ResizableArray.scala:59)\n\tat scala.collection.mutable.ArrayBuffer.foreach(ArrayBuffer.scala:48)\n\tat scala.collection.TraversableLike$class.map(TraversableLike.scala:234)\n\tat scala.collection.AbstractTraversable.map(Traversable.scala:104)\n\tat org.apache.spark.sql.catalyst.plans.QueryPlan.org$apache$spark$sql$catalyst$plans$QueryPlan$$recursiveTransform$1(QueryPlan.scala:121)\n\tat org.apache.spark.sql.catalyst.plans.QueryPlan$$anonfun$2.apply(QueryPlan.scala:126)\n\tat org.apache.spark.sql.catalyst.trees.TreeNode.mapProductIterator(TreeNode.scala:187)\n\tat org.apache.spark.sql.catalyst.plans.QueryPlan.mapExpressions(QueryPlan.scala:126)\n\tat org.apache.spark.sql.catalyst.plans.QueryPlan.transformExpressionsDown(QueryPlan.scala:83)\n\tat org.apache.spark.sql.catalyst.plans.QueryPlan.transformExpressions(QueryPlan.scala:74)\n\tat org.apache.spark.sql.catalyst.plans.logical.AnalysisHelper$$anonfun$resolveExpressions$1.applyOrElse(AnalysisHelper.scala:129)\n\tat org.apache.spark.sql.catalyst.plans.logical.AnalysisHelper$$anonfun$resolveExpressions$1.applyOrElse(AnalysisHelper.scala:128)\n\tat org.apache.spark.sql.catalyst.plans.logical.AnalysisHelper$$anonfun$resolveOperatorsDown$1$$anonfun$2.apply(AnalysisHelper.scala:108)\n\tat org.apache.spark.sql.catalyst.plans.logical.AnalysisHelper$$anonfun$resolveOperatorsDown$1$$anonfun$2.apply(AnalysisHelper.scala:108)\n\tat org.apache.spark.sql.catalyst.trees.CurrentOrigin$.withOrigin(TreeNode.scala:70)\n\tat org.apache.spark.sql.catalyst.plans.logical.AnalysisHelper$$anonfun$resolveOperatorsDown$1.apply(AnalysisHelper.scala:107)\n\tat org.apache.spark.sql.catalyst.plans.logical.AnalysisHelper$$anonfun$resolveOperatorsDown$1.apply(AnalysisHelper.scala:106)\n\tat org.apache.spark.sql.catalyst.plans.logical.AnalysisHelper$.allowInvokingTransformsInAnalyzer(AnalysisHelper.scala:194)\n\tat org.apache.spark.sql.catalyst.plans.logical.AnalysisHelper$class.resolveOperatorsDown(AnalysisHelper.scala:106)\n\tat org.apache.spark.sql.catalyst.plans.logical.LogicalPlan.resolveOperatorsDown(LogicalPlan.scala:29)\n\tat org.apache.spark.sql.catalyst.plans.logical.AnalysisHelper$class.resolveOperators(AnalysisHelper.scala:73)\n\tat org.apache.spark.sql.catalyst.plans.logical.LogicalPlan.resolveOperators(LogicalPlan.scala:29)\n\tat org.apache.spark.sql.catalyst.plans.logical.AnalysisHelper$class.resolveExpressions(AnalysisHelper.scala:128)\n\tat org.apache.spark.sql.catalyst.plans.logical.LogicalPlan.resolveExpressions(LogicalPlan.scala:29)\n\tat org.apache.spark.sql.catalyst.analysis.Analyzer$ResolveWindowOrder$.apply(Analyzer.scala:2206)\n\tat org.apache.spark.sql.catalyst.analysis.Analyzer$ResolveWindowOrder$.apply(Analyzer.scala:2205)\n\tat org.apache.spark.sql.catalyst.rules.RuleExecutor$$anonfun$execute$1$$anonfun$apply$1.apply(RuleExecutor.scala:87)\n\tat org.apache.spark.sql.catalyst.rules.RuleExecutor$$anonfun$execute$1$$anonfun$apply$1.apply(RuleExecutor.scala:84)\n\tat scala.collection.LinearSeqOptimized$class.foldLeft(LinearSeqOptimized.scala:124)\n\tat scala.collection.immutable.List.foldLeft(List.scala:84)\n\tat org.apache.spark.sql.catalyst.rules.RuleExecutor$$anonfun$execute$1.apply(RuleExecutor.scala:84)\n\tat org.apache.spark.sql.catalyst.rules.RuleExecutor$$anonfun$execute$1.apply(RuleExecutor.scala:76)\n\tat scala.collection.immutable.List.foreach(List.scala:392)\n\tat org.apache.spark.sql.catalyst.rules.RuleExecutor.execute(RuleExecutor.scala:76)\n\tat org.apache.spark.sql.catalyst.analysis.Analyzer.org$apache$spark$sql$catalyst$analysis$Analyzer$$executeSameContext(Analyzer.scala:127)\n\tat org.apache.spark.sql.catalyst.analysis.Analyzer.execute(Analyzer.scala:121)\n\tat org.apache.spark.sql.catalyst.analysis.Analyzer$$anonfun$executeAndCheck$1.apply(Analyzer.scala:106)\n\tat org.apache.spark.sql.catalyst.analysis.Analyzer$$anonfun$executeAndCheck$1.apply(Analyzer.scala:105)\n\tat org.apache.spark.sql.catalyst.plans.logical.AnalysisHelper$.markInAnalyzer(AnalysisHelper.scala:201)\n\tat org.apache.spark.sql.catalyst.analysis.Analyzer.executeAndCheck(Analyzer.scala:105)\n\tat org.apache.spark.sql.execution.QueryExecution.analyzed$lzycompute(QueryExecution.scala:57)\n\tat org.apache.spark.sql.execution.QueryExecution.analyzed(QueryExecution.scala:55)\n\tat org.apache.spark.sql.execution.QueryExecution.assertAnalyzed(QueryExecution.scala:47)\n\tat org.apache.spark.sql.Dataset$.ofRows(Dataset.scala:78)\n\tat org.apache.spark.sql.Dataset.org$apache$spark$sql$Dataset$$withPlan(Dataset.scala:3406)\n\tat org.apache.spark.sql.Dataset.select(Dataset.scala:1334)\n\tat org.apache.spark.sql.Dataset.withColumns(Dataset.scala:2252)\n\tat org.apache.spark.sql.Dataset.withColumn(Dataset.scala:2219)\n\tat sun.reflect.NativeMethodAccessorImpl.invoke0(Native Method)\n\tat sun.reflect.NativeMethodAccessorImpl.invoke(NativeMethodAccessorImpl.java:62)\n\tat sun.reflect.DelegatingMethodAccessorImpl.invoke(DelegatingMethodAccessorImpl.java:43)\n\tat java.lang.reflect.Method.invoke(Method.java:498)\n\tat py4j.reflection.MethodInvoker.invoke(MethodInvoker.java:244)\n\tat py4j.reflection.ReflectionEngine.invoke(ReflectionEngine.java:357)\n\tat py4j.Gateway.invoke(Gateway.java:282)\n\tat py4j.commands.AbstractCommand.invokeMethod(AbstractCommand.java:132)\n\tat py4j.commands.CallCommand.execute(CallCommand.java:79)\n\tat py4j.GatewayConnection.run(GatewayConnection.java:238)\n\tat java.lang.Thread.run(Thread.java:748)\n",
      "\nDuring handling of the above exception, another exception occurred:\n",
      "\u001b[0;31mAnalysisException\u001b[0m                         Traceback (most recent call last)",
      "\u001b[0;32m<ipython-input-181-a1db5a2f4824>\u001b[0m in \u001b[0;36m<module>\u001b[0;34m\u001b[0m\n\u001b[0;32m----> 1\u001b[0;31m \u001b[0mx\u001b[0m \u001b[0;34m=\u001b[0m \u001b[0maverage_finishing_test\u001b[0m\u001b[0;34m(\u001b[0m\u001b[0mwork_df\u001b[0m\u001b[0;34m)\u001b[0m\u001b[0;34m\u001b[0m\u001b[0;34m\u001b[0m\u001b[0m\n\u001b[0m",
      "\u001b[0;32m<ipython-input-180-ef217793b7f0>\u001b[0m in \u001b[0;36maverage_finishing_test\u001b[0;34m(df)\u001b[0m\n\u001b[1;32m      2\u001b[0m     \u001b[0mwindow\u001b[0m \u001b[0;34m=\u001b[0m  \u001b[0mWindow\u001b[0m\u001b[0;34m.\u001b[0m\u001b[0mpartitionBy\u001b[0m\u001b[0;34m(\u001b[0m\u001b[0;34m'driverId'\u001b[0m\u001b[0;34m)\u001b[0m\u001b[0;34m\u001b[0m\u001b[0;34m\u001b[0m\u001b[0m\n\u001b[1;32m      3\u001b[0m \u001b[0;34m\u001b[0m\u001b[0m\n\u001b[0;32m----> 4\u001b[0;31m     \u001b[0;32mreturn\u001b[0m \u001b[0mdf\u001b[0m\u001b[0;34m.\u001b[0m\u001b[0mwithColumn\u001b[0m\u001b[0;34m(\u001b[0m\u001b[0;34m'lagged_by_one'\u001b[0m\u001b[0;34m,\u001b[0m \u001b[0msf\u001b[0m\u001b[0;34m.\u001b[0m\u001b[0mlag\u001b[0m\u001b[0;34m(\u001b[0m\u001b[0;34m'positionOrder'\u001b[0m\u001b[0;34m)\u001b[0m\u001b[0;34m.\u001b[0m\u001b[0mover\u001b[0m\u001b[0;34m(\u001b[0m\u001b[0mwindow\u001b[0m\u001b[0;34m)\u001b[0m\u001b[0;34m)\u001b[0m\u001b[0;34m\u001b[0m\u001b[0;34m\u001b[0m\u001b[0m\n\u001b[0m",
      "\u001b[0;32m~/Desktop/Projects/formula1/venv/lib/python3.7/site-packages/pyspark/sql/dataframe.py\u001b[0m in \u001b[0;36mwithColumn\u001b[0;34m(self, colName, col)\u001b[0m\n\u001b[1;32m   1987\u001b[0m         \"\"\"\n\u001b[1;32m   1988\u001b[0m         \u001b[0;32massert\u001b[0m \u001b[0misinstance\u001b[0m\u001b[0;34m(\u001b[0m\u001b[0mcol\u001b[0m\u001b[0;34m,\u001b[0m \u001b[0mColumn\u001b[0m\u001b[0;34m)\u001b[0m\u001b[0;34m,\u001b[0m \u001b[0;34m\"col should be Column\"\u001b[0m\u001b[0;34m\u001b[0m\u001b[0;34m\u001b[0m\u001b[0m\n\u001b[0;32m-> 1989\u001b[0;31m         \u001b[0;32mreturn\u001b[0m \u001b[0mDataFrame\u001b[0m\u001b[0;34m(\u001b[0m\u001b[0mself\u001b[0m\u001b[0;34m.\u001b[0m\u001b[0m_jdf\u001b[0m\u001b[0;34m.\u001b[0m\u001b[0mwithColumn\u001b[0m\u001b[0;34m(\u001b[0m\u001b[0mcolName\u001b[0m\u001b[0;34m,\u001b[0m \u001b[0mcol\u001b[0m\u001b[0;34m.\u001b[0m\u001b[0m_jc\u001b[0m\u001b[0;34m)\u001b[0m\u001b[0;34m,\u001b[0m \u001b[0mself\u001b[0m\u001b[0;34m.\u001b[0m\u001b[0msql_ctx\u001b[0m\u001b[0;34m)\u001b[0m\u001b[0;34m\u001b[0m\u001b[0;34m\u001b[0m\u001b[0m\n\u001b[0m\u001b[1;32m   1990\u001b[0m \u001b[0;34m\u001b[0m\u001b[0m\n\u001b[1;32m   1991\u001b[0m     \u001b[0;34m@\u001b[0m\u001b[0mignore_unicode_prefix\u001b[0m\u001b[0;34m\u001b[0m\u001b[0;34m\u001b[0m\u001b[0m\n",
      "\u001b[0;32m~/Desktop/Projects/formula1/venv/lib/python3.7/site-packages/py4j/java_gateway.py\u001b[0m in \u001b[0;36m__call__\u001b[0;34m(self, *args)\u001b[0m\n\u001b[1;32m   1255\u001b[0m         \u001b[0manswer\u001b[0m \u001b[0;34m=\u001b[0m \u001b[0mself\u001b[0m\u001b[0;34m.\u001b[0m\u001b[0mgateway_client\u001b[0m\u001b[0;34m.\u001b[0m\u001b[0msend_command\u001b[0m\u001b[0;34m(\u001b[0m\u001b[0mcommand\u001b[0m\u001b[0;34m)\u001b[0m\u001b[0;34m\u001b[0m\u001b[0;34m\u001b[0m\u001b[0m\n\u001b[1;32m   1256\u001b[0m         return_value = get_return_value(\n\u001b[0;32m-> 1257\u001b[0;31m             answer, self.gateway_client, self.target_id, self.name)\n\u001b[0m\u001b[1;32m   1258\u001b[0m \u001b[0;34m\u001b[0m\u001b[0m\n\u001b[1;32m   1259\u001b[0m         \u001b[0;32mfor\u001b[0m \u001b[0mtemp_arg\u001b[0m \u001b[0;32min\u001b[0m \u001b[0mtemp_args\u001b[0m\u001b[0;34m:\u001b[0m\u001b[0;34m\u001b[0m\u001b[0;34m\u001b[0m\u001b[0m\n",
      "\u001b[0;32m~/Desktop/Projects/formula1/venv/lib/python3.7/site-packages/pyspark/sql/utils.py\u001b[0m in \u001b[0;36mdeco\u001b[0;34m(*a, **kw)\u001b[0m\n\u001b[1;32m     67\u001b[0m                                              e.java_exception.getStackTrace()))\n\u001b[1;32m     68\u001b[0m             \u001b[0;32mif\u001b[0m \u001b[0ms\u001b[0m\u001b[0;34m.\u001b[0m\u001b[0mstartswith\u001b[0m\u001b[0;34m(\u001b[0m\u001b[0;34m'org.apache.spark.sql.AnalysisException: '\u001b[0m\u001b[0;34m)\u001b[0m\u001b[0;34m:\u001b[0m\u001b[0;34m\u001b[0m\u001b[0;34m\u001b[0m\u001b[0m\n\u001b[0;32m---> 69\u001b[0;31m                 \u001b[0;32mraise\u001b[0m \u001b[0mAnalysisException\u001b[0m\u001b[0;34m(\u001b[0m\u001b[0ms\u001b[0m\u001b[0;34m.\u001b[0m\u001b[0msplit\u001b[0m\u001b[0;34m(\u001b[0m\u001b[0;34m': '\u001b[0m\u001b[0;34m,\u001b[0m \u001b[0;36m1\u001b[0m\u001b[0;34m)\u001b[0m\u001b[0;34m[\u001b[0m\u001b[0;36m1\u001b[0m\u001b[0;34m]\u001b[0m\u001b[0;34m,\u001b[0m \u001b[0mstackTrace\u001b[0m\u001b[0;34m)\u001b[0m\u001b[0;34m\u001b[0m\u001b[0;34m\u001b[0m\u001b[0m\n\u001b[0m\u001b[1;32m     70\u001b[0m             \u001b[0;32mif\u001b[0m \u001b[0ms\u001b[0m\u001b[0;34m.\u001b[0m\u001b[0mstartswith\u001b[0m\u001b[0;34m(\u001b[0m\u001b[0;34m'org.apache.spark.sql.catalyst.analysis'\u001b[0m\u001b[0;34m)\u001b[0m\u001b[0;34m:\u001b[0m\u001b[0;34m\u001b[0m\u001b[0;34m\u001b[0m\u001b[0m\n\u001b[1;32m     71\u001b[0m                 \u001b[0;32mraise\u001b[0m \u001b[0mAnalysisException\u001b[0m\u001b[0;34m(\u001b[0m\u001b[0ms\u001b[0m\u001b[0;34m.\u001b[0m\u001b[0msplit\u001b[0m\u001b[0;34m(\u001b[0m\u001b[0;34m': '\u001b[0m\u001b[0;34m,\u001b[0m \u001b[0;36m1\u001b[0m\u001b[0;34m)\u001b[0m\u001b[0;34m[\u001b[0m\u001b[0;36m1\u001b[0m\u001b[0;34m]\u001b[0m\u001b[0;34m,\u001b[0m \u001b[0mstackTrace\u001b[0m\u001b[0;34m)\u001b[0m\u001b[0;34m\u001b[0m\u001b[0;34m\u001b[0m\u001b[0m\n",
      "\u001b[0;31mAnalysisException\u001b[0m: 'Window function lag(positionOrder#6326, 1, null) requires window to be ordered, please add ORDER BY clause. For example SELECT lag(positionOrder#6326, 1, null)(value_expr) OVER (PARTITION BY window_partition ORDER BY window_ordering) from table;'"
     ]
    }
   ],
   "source": [
    "x = average_finishing_test(work_df)"
   ]
  },
  {
   "cell_type": "code",
   "execution_count": 182,
   "metadata": {
    "scrolled": false
   },
   "outputs": [
    {
     "ename": "Py4JJavaError",
     "evalue": "An error occurred while calling o1570.showString.\n: java.lang.UnsupportedOperationException: Cannot evaluate expression: lag(input[7, int, true], 1, null)\n\tat org.apache.spark.sql.catalyst.expressions.Unevaluable$class.eval(Expression.scala:258)\n\tat org.apache.spark.sql.catalyst.expressions.OffsetWindowFunction.eval(windowExpressions.scala:337)\n\tat org.apache.spark.sql.catalyst.expressions.UnaryExpression.eval(Expression.scala:389)\n\tat org.apache.spark.sql.catalyst.expressions.Alias.eval(namedExpressions.scala:152)\n\tat org.apache.spark.sql.catalyst.expressions.InterpretedUnsafeProjection.apply(InterpretedUnsafeProjection.scala:76)\n\tat org.apache.spark.sql.execution.TakeOrderedAndProjectExec$$anonfun$executeCollect$1.apply(limit.scala:139)\n\tat org.apache.spark.sql.execution.TakeOrderedAndProjectExec$$anonfun$executeCollect$1.apply(limit.scala:139)\n\tat scala.collection.TraversableLike$$anonfun$map$1.apply(TraversableLike.scala:234)\n\tat scala.collection.TraversableLike$$anonfun$map$1.apply(TraversableLike.scala:234)\n\tat scala.collection.IndexedSeqOptimized$class.foreach(IndexedSeqOptimized.scala:33)\n\tat scala.collection.mutable.ArrayOps$ofRef.foreach(ArrayOps.scala:186)\n\tat scala.collection.TraversableLike$class.map(TraversableLike.scala:234)\n\tat scala.collection.mutable.ArrayOps$ofRef.map(ArrayOps.scala:186)\n\tat org.apache.spark.sql.execution.TakeOrderedAndProjectExec.executeCollect(limit.scala:139)\n\tat org.apache.spark.sql.Dataset.org$apache$spark$sql$Dataset$$collectFromPlan(Dataset.scala:3383)\n\tat org.apache.spark.sql.Dataset$$anonfun$head$1.apply(Dataset.scala:2544)\n\tat org.apache.spark.sql.Dataset$$anonfun$head$1.apply(Dataset.scala:2544)\n\tat org.apache.spark.sql.Dataset$$anonfun$53.apply(Dataset.scala:3364)\n\tat org.apache.spark.sql.execution.SQLExecution$$anonfun$withNewExecutionId$1.apply(SQLExecution.scala:78)\n\tat org.apache.spark.sql.execution.SQLExecution$.withSQLConfPropagated(SQLExecution.scala:125)\n\tat org.apache.spark.sql.execution.SQLExecution$.withNewExecutionId(SQLExecution.scala:73)\n\tat org.apache.spark.sql.Dataset.withAction(Dataset.scala:3363)\n\tat org.apache.spark.sql.Dataset.head(Dataset.scala:2544)\n\tat org.apache.spark.sql.Dataset.take(Dataset.scala:2758)\n\tat org.apache.spark.sql.Dataset.getRows(Dataset.scala:254)\n\tat org.apache.spark.sql.Dataset.showString(Dataset.scala:291)\n\tat sun.reflect.GeneratedMethodAccessor119.invoke(Unknown Source)\n\tat sun.reflect.DelegatingMethodAccessorImpl.invoke(DelegatingMethodAccessorImpl.java:43)\n\tat java.lang.reflect.Method.invoke(Method.java:498)\n\tat py4j.reflection.MethodInvoker.invoke(MethodInvoker.java:244)\n\tat py4j.reflection.ReflectionEngine.invoke(ReflectionEngine.java:357)\n\tat py4j.Gateway.invoke(Gateway.java:282)\n\tat py4j.commands.AbstractCommand.invokeMethod(AbstractCommand.java:132)\n\tat py4j.commands.CallCommand.execute(CallCommand.java:79)\n\tat py4j.GatewayConnection.run(GatewayConnection.java:238)\n\tat java.lang.Thread.run(Thread.java:748)\n",
     "output_type": "error",
     "traceback": [
      "\u001b[0;31m---------------------------------------------------------------------------\u001b[0m",
      "\u001b[0;31mPy4JJavaError\u001b[0m                             Traceback (most recent call last)",
      "\u001b[0;32m<ipython-input-182-179c9ffffecf>\u001b[0m in \u001b[0;36m<module>\u001b[0;34m\u001b[0m\n\u001b[0;32m----> 1\u001b[0;31m \u001b[0mx\u001b[0m\u001b[0;34m.\u001b[0m\u001b[0mshow\u001b[0m\u001b[0;34m(\u001b[0m\u001b[0;34m)\u001b[0m\u001b[0;34m\u001b[0m\u001b[0;34m\u001b[0m\u001b[0m\n\u001b[0m",
      "\u001b[0;32m~/Desktop/Projects/formula1/venv/lib/python3.7/site-packages/pyspark/sql/dataframe.py\u001b[0m in \u001b[0;36mshow\u001b[0;34m(self, n, truncate, vertical)\u001b[0m\n\u001b[1;32m    376\u001b[0m         \"\"\"\n\u001b[1;32m    377\u001b[0m         \u001b[0;32mif\u001b[0m \u001b[0misinstance\u001b[0m\u001b[0;34m(\u001b[0m\u001b[0mtruncate\u001b[0m\u001b[0;34m,\u001b[0m \u001b[0mbool\u001b[0m\u001b[0;34m)\u001b[0m \u001b[0;32mand\u001b[0m \u001b[0mtruncate\u001b[0m\u001b[0;34m:\u001b[0m\u001b[0;34m\u001b[0m\u001b[0;34m\u001b[0m\u001b[0m\n\u001b[0;32m--> 378\u001b[0;31m             \u001b[0mprint\u001b[0m\u001b[0;34m(\u001b[0m\u001b[0mself\u001b[0m\u001b[0;34m.\u001b[0m\u001b[0m_jdf\u001b[0m\u001b[0;34m.\u001b[0m\u001b[0mshowString\u001b[0m\u001b[0;34m(\u001b[0m\u001b[0mn\u001b[0m\u001b[0;34m,\u001b[0m \u001b[0;36m20\u001b[0m\u001b[0;34m,\u001b[0m \u001b[0mvertical\u001b[0m\u001b[0;34m)\u001b[0m\u001b[0;34m)\u001b[0m\u001b[0;34m\u001b[0m\u001b[0;34m\u001b[0m\u001b[0m\n\u001b[0m\u001b[1;32m    379\u001b[0m         \u001b[0;32melse\u001b[0m\u001b[0;34m:\u001b[0m\u001b[0;34m\u001b[0m\u001b[0;34m\u001b[0m\u001b[0m\n\u001b[1;32m    380\u001b[0m             \u001b[0mprint\u001b[0m\u001b[0;34m(\u001b[0m\u001b[0mself\u001b[0m\u001b[0;34m.\u001b[0m\u001b[0m_jdf\u001b[0m\u001b[0;34m.\u001b[0m\u001b[0mshowString\u001b[0m\u001b[0;34m(\u001b[0m\u001b[0mn\u001b[0m\u001b[0;34m,\u001b[0m \u001b[0mint\u001b[0m\u001b[0;34m(\u001b[0m\u001b[0mtruncate\u001b[0m\u001b[0;34m)\u001b[0m\u001b[0;34m,\u001b[0m \u001b[0mvertical\u001b[0m\u001b[0;34m)\u001b[0m\u001b[0;34m)\u001b[0m\u001b[0;34m\u001b[0m\u001b[0;34m\u001b[0m\u001b[0m\n",
      "\u001b[0;32m~/Desktop/Projects/formula1/venv/lib/python3.7/site-packages/py4j/java_gateway.py\u001b[0m in \u001b[0;36m__call__\u001b[0;34m(self, *args)\u001b[0m\n\u001b[1;32m   1255\u001b[0m         \u001b[0manswer\u001b[0m \u001b[0;34m=\u001b[0m \u001b[0mself\u001b[0m\u001b[0;34m.\u001b[0m\u001b[0mgateway_client\u001b[0m\u001b[0;34m.\u001b[0m\u001b[0msend_command\u001b[0m\u001b[0;34m(\u001b[0m\u001b[0mcommand\u001b[0m\u001b[0;34m)\u001b[0m\u001b[0;34m\u001b[0m\u001b[0;34m\u001b[0m\u001b[0m\n\u001b[1;32m   1256\u001b[0m         return_value = get_return_value(\n\u001b[0;32m-> 1257\u001b[0;31m             answer, self.gateway_client, self.target_id, self.name)\n\u001b[0m\u001b[1;32m   1258\u001b[0m \u001b[0;34m\u001b[0m\u001b[0m\n\u001b[1;32m   1259\u001b[0m         \u001b[0;32mfor\u001b[0m \u001b[0mtemp_arg\u001b[0m \u001b[0;32min\u001b[0m \u001b[0mtemp_args\u001b[0m\u001b[0;34m:\u001b[0m\u001b[0;34m\u001b[0m\u001b[0;34m\u001b[0m\u001b[0m\n",
      "\u001b[0;32m~/Desktop/Projects/formula1/venv/lib/python3.7/site-packages/pyspark/sql/utils.py\u001b[0m in \u001b[0;36mdeco\u001b[0;34m(*a, **kw)\u001b[0m\n\u001b[1;32m     61\u001b[0m     \u001b[0;32mdef\u001b[0m \u001b[0mdeco\u001b[0m\u001b[0;34m(\u001b[0m\u001b[0;34m*\u001b[0m\u001b[0ma\u001b[0m\u001b[0;34m,\u001b[0m \u001b[0;34m**\u001b[0m\u001b[0mkw\u001b[0m\u001b[0;34m)\u001b[0m\u001b[0;34m:\u001b[0m\u001b[0;34m\u001b[0m\u001b[0;34m\u001b[0m\u001b[0m\n\u001b[1;32m     62\u001b[0m         \u001b[0;32mtry\u001b[0m\u001b[0;34m:\u001b[0m\u001b[0;34m\u001b[0m\u001b[0;34m\u001b[0m\u001b[0m\n\u001b[0;32m---> 63\u001b[0;31m             \u001b[0;32mreturn\u001b[0m \u001b[0mf\u001b[0m\u001b[0;34m(\u001b[0m\u001b[0;34m*\u001b[0m\u001b[0ma\u001b[0m\u001b[0;34m,\u001b[0m \u001b[0;34m**\u001b[0m\u001b[0mkw\u001b[0m\u001b[0;34m)\u001b[0m\u001b[0;34m\u001b[0m\u001b[0;34m\u001b[0m\u001b[0m\n\u001b[0m\u001b[1;32m     64\u001b[0m         \u001b[0;32mexcept\u001b[0m \u001b[0mpy4j\u001b[0m\u001b[0;34m.\u001b[0m\u001b[0mprotocol\u001b[0m\u001b[0;34m.\u001b[0m\u001b[0mPy4JJavaError\u001b[0m \u001b[0;32mas\u001b[0m \u001b[0me\u001b[0m\u001b[0;34m:\u001b[0m\u001b[0;34m\u001b[0m\u001b[0;34m\u001b[0m\u001b[0m\n\u001b[1;32m     65\u001b[0m             \u001b[0ms\u001b[0m \u001b[0;34m=\u001b[0m \u001b[0me\u001b[0m\u001b[0;34m.\u001b[0m\u001b[0mjava_exception\u001b[0m\u001b[0;34m.\u001b[0m\u001b[0mtoString\u001b[0m\u001b[0;34m(\u001b[0m\u001b[0;34m)\u001b[0m\u001b[0;34m\u001b[0m\u001b[0;34m\u001b[0m\u001b[0m\n",
      "\u001b[0;32m~/Desktop/Projects/formula1/venv/lib/python3.7/site-packages/py4j/protocol.py\u001b[0m in \u001b[0;36mget_return_value\u001b[0;34m(answer, gateway_client, target_id, name)\u001b[0m\n\u001b[1;32m    326\u001b[0m                 raise Py4JJavaError(\n\u001b[1;32m    327\u001b[0m                     \u001b[0;34m\"An error occurred while calling {0}{1}{2}.\\n\"\u001b[0m\u001b[0;34m.\u001b[0m\u001b[0;34m\u001b[0m\u001b[0;34m\u001b[0m\u001b[0m\n\u001b[0;32m--> 328\u001b[0;31m                     format(target_id, \".\", name), value)\n\u001b[0m\u001b[1;32m    329\u001b[0m             \u001b[0;32melse\u001b[0m\u001b[0;34m:\u001b[0m\u001b[0;34m\u001b[0m\u001b[0;34m\u001b[0m\u001b[0m\n\u001b[1;32m    330\u001b[0m                 raise Py4JError(\n",
      "\u001b[0;31mPy4JJavaError\u001b[0m: An error occurred while calling o1570.showString.\n: java.lang.UnsupportedOperationException: Cannot evaluate expression: lag(input[7, int, true], 1, null)\n\tat org.apache.spark.sql.catalyst.expressions.Unevaluable$class.eval(Expression.scala:258)\n\tat org.apache.spark.sql.catalyst.expressions.OffsetWindowFunction.eval(windowExpressions.scala:337)\n\tat org.apache.spark.sql.catalyst.expressions.UnaryExpression.eval(Expression.scala:389)\n\tat org.apache.spark.sql.catalyst.expressions.Alias.eval(namedExpressions.scala:152)\n\tat org.apache.spark.sql.catalyst.expressions.InterpretedUnsafeProjection.apply(InterpretedUnsafeProjection.scala:76)\n\tat org.apache.spark.sql.execution.TakeOrderedAndProjectExec$$anonfun$executeCollect$1.apply(limit.scala:139)\n\tat org.apache.spark.sql.execution.TakeOrderedAndProjectExec$$anonfun$executeCollect$1.apply(limit.scala:139)\n\tat scala.collection.TraversableLike$$anonfun$map$1.apply(TraversableLike.scala:234)\n\tat scala.collection.TraversableLike$$anonfun$map$1.apply(TraversableLike.scala:234)\n\tat scala.collection.IndexedSeqOptimized$class.foreach(IndexedSeqOptimized.scala:33)\n\tat scala.collection.mutable.ArrayOps$ofRef.foreach(ArrayOps.scala:186)\n\tat scala.collection.TraversableLike$class.map(TraversableLike.scala:234)\n\tat scala.collection.mutable.ArrayOps$ofRef.map(ArrayOps.scala:186)\n\tat org.apache.spark.sql.execution.TakeOrderedAndProjectExec.executeCollect(limit.scala:139)\n\tat org.apache.spark.sql.Dataset.org$apache$spark$sql$Dataset$$collectFromPlan(Dataset.scala:3383)\n\tat org.apache.spark.sql.Dataset$$anonfun$head$1.apply(Dataset.scala:2544)\n\tat org.apache.spark.sql.Dataset$$anonfun$head$1.apply(Dataset.scala:2544)\n\tat org.apache.spark.sql.Dataset$$anonfun$53.apply(Dataset.scala:3364)\n\tat org.apache.spark.sql.execution.SQLExecution$$anonfun$withNewExecutionId$1.apply(SQLExecution.scala:78)\n\tat org.apache.spark.sql.execution.SQLExecution$.withSQLConfPropagated(SQLExecution.scala:125)\n\tat org.apache.spark.sql.execution.SQLExecution$.withNewExecutionId(SQLExecution.scala:73)\n\tat org.apache.spark.sql.Dataset.withAction(Dataset.scala:3363)\n\tat org.apache.spark.sql.Dataset.head(Dataset.scala:2544)\n\tat org.apache.spark.sql.Dataset.take(Dataset.scala:2758)\n\tat org.apache.spark.sql.Dataset.getRows(Dataset.scala:254)\n\tat org.apache.spark.sql.Dataset.showString(Dataset.scala:291)\n\tat sun.reflect.GeneratedMethodAccessor119.invoke(Unknown Source)\n\tat sun.reflect.DelegatingMethodAccessorImpl.invoke(DelegatingMethodAccessorImpl.java:43)\n\tat java.lang.reflect.Method.invoke(Method.java:498)\n\tat py4j.reflection.MethodInvoker.invoke(MethodInvoker.java:244)\n\tat py4j.reflection.ReflectionEngine.invoke(ReflectionEngine.java:357)\n\tat py4j.Gateway.invoke(Gateway.java:282)\n\tat py4j.commands.AbstractCommand.invokeMethod(AbstractCommand.java:132)\n\tat py4j.commands.CallCommand.execute(CallCommand.java:79)\n\tat py4j.GatewayConnection.run(GatewayConnection.java:238)\n\tat java.lang.Thread.run(Thread.java:748)\n"
     ]
    }
   ],
   "source": [
    "x.show()"
   ]
  },
  {
   "cell_type": "code",
   "execution_count": null,
   "metadata": {},
   "outputs": [],
   "source": [
    "df.filter(df.X == 1).toPandas()"
   ]
  },
  {
   "cell_type": "code",
   "execution_count": 163,
   "metadata": {},
   "outputs": [
    {
     "name": "stdout",
     "output_type": "stream",
     "text": [
      "+-----------------+\n",
      "|    mean_position|\n",
      "+-----------------+\n",
      "|5.485576923076923|\n",
      "|5.485576923076923|\n",
      "|5.485576923076923|\n",
      "|5.485576923076923|\n",
      "|5.485576923076923|\n",
      "|5.485576923076923|\n",
      "|5.485576923076923|\n",
      "|5.485576923076923|\n",
      "|5.485576923076923|\n",
      "|5.485576923076923|\n",
      "|5.485576923076923|\n",
      "|5.485576923076923|\n",
      "|5.485576923076923|\n",
      "|5.485576923076923|\n",
      "|5.485576923076923|\n",
      "|5.485576923076923|\n",
      "|5.485576923076923|\n",
      "|5.485576923076923|\n",
      "|5.485576923076923|\n",
      "|5.485576923076923|\n",
      "+-----------------+\n",
      "only showing top 20 rows\n",
      "\n"
     ]
    }
   ],
   "source": [
    "x.filter(x.driverRef == 'hamilton').select('mean_position').show()"
   ]
  },
  {
   "cell_type": "code",
   "execution_count": null,
   "metadata": {},
   "outputs": [],
   "source": [
    "@log_step\n",
    "def average_finishing(df):\n",
    "    return df.assign(\n",
    "        mean_position_till_date = lambda df: df.groupby('driverId')['positionOrder']\n",
    "        .transform(lambda df: df.shift(1).expanding().mean())\n",
    "    )"
   ]
  },
  {
   "cell_type": "markdown",
   "metadata": {},
   "source": [
    "# Get the driver with the max driverID"
   ]
  },
  {
   "cell_type": "code",
   "execution_count": 38,
   "metadata": {
    "scrolled": true
   },
   "outputs": [
    {
     "data": {
      "text/html": [
       "<div>\n",
       "<style scoped>\n",
       "    .dataframe tbody tr th:only-of-type {\n",
       "        vertical-align: middle;\n",
       "    }\n",
       "\n",
       "    .dataframe tbody tr th {\n",
       "        vertical-align: top;\n",
       "    }\n",
       "\n",
       "    .dataframe thead th {\n",
       "        text-align: right;\n",
       "    }\n",
       "</style>\n",
       "<table border=\"1\" class=\"dataframe\">\n",
       "  <thead>\n",
       "    <tr style=\"text-align: right;\">\n",
       "      <th></th>\n",
       "      <th>driverRef</th>\n",
       "      <th>driverId</th>\n",
       "    </tr>\n",
       "  </thead>\n",
       "  <tbody>\n",
       "    <tr>\n",
       "      <th>0</th>\n",
       "      <td>hamilton</td>\n",
       "      <td>1</td>\n",
       "    </tr>\n",
       "    <tr>\n",
       "      <th>1</th>\n",
       "      <td>heidfeld</td>\n",
       "      <td>2</td>\n",
       "    </tr>\n",
       "    <tr>\n",
       "      <th>2</th>\n",
       "      <td>rosberg</td>\n",
       "      <td>3</td>\n",
       "    </tr>\n",
       "    <tr>\n",
       "      <th>3</th>\n",
       "      <td>alonso</td>\n",
       "      <td>4</td>\n",
       "    </tr>\n",
       "    <tr>\n",
       "      <th>4</th>\n",
       "      <td>kovalainen</td>\n",
       "      <td>5</td>\n",
       "    </tr>\n",
       "    <tr>\n",
       "      <th>5</th>\n",
       "      <td>nakajima</td>\n",
       "      <td>6</td>\n",
       "    </tr>\n",
       "    <tr>\n",
       "      <th>6</th>\n",
       "      <td>bourdais</td>\n",
       "      <td>7</td>\n",
       "    </tr>\n",
       "    <tr>\n",
       "      <th>7</th>\n",
       "      <td>raikkonen</td>\n",
       "      <td>8</td>\n",
       "    </tr>\n",
       "    <tr>\n",
       "      <th>8</th>\n",
       "      <td>kubica</td>\n",
       "      <td>9</td>\n",
       "    </tr>\n",
       "    <tr>\n",
       "      <th>9</th>\n",
       "      <td>glock</td>\n",
       "      <td>10</td>\n",
       "    </tr>\n",
       "    <tr>\n",
       "      <th>10</th>\n",
       "      <td>sato</td>\n",
       "      <td>11</td>\n",
       "    </tr>\n",
       "    <tr>\n",
       "      <th>11</th>\n",
       "      <td>piquet_jr</td>\n",
       "      <td>12</td>\n",
       "    </tr>\n",
       "    <tr>\n",
       "      <th>12</th>\n",
       "      <td>massa</td>\n",
       "      <td>13</td>\n",
       "    </tr>\n",
       "    <tr>\n",
       "      <th>13</th>\n",
       "      <td>coulthard</td>\n",
       "      <td>14</td>\n",
       "    </tr>\n",
       "    <tr>\n",
       "      <th>14</th>\n",
       "      <td>trulli</td>\n",
       "      <td>15</td>\n",
       "    </tr>\n",
       "    <tr>\n",
       "      <th>15</th>\n",
       "      <td>sutil</td>\n",
       "      <td>16</td>\n",
       "    </tr>\n",
       "    <tr>\n",
       "      <th>16</th>\n",
       "      <td>webber</td>\n",
       "      <td>17</td>\n",
       "    </tr>\n",
       "    <tr>\n",
       "      <th>17</th>\n",
       "      <td>button</td>\n",
       "      <td>18</td>\n",
       "    </tr>\n",
       "    <tr>\n",
       "      <th>18</th>\n",
       "      <td>davidson</td>\n",
       "      <td>19</td>\n",
       "    </tr>\n",
       "    <tr>\n",
       "      <th>19</th>\n",
       "      <td>vettel</td>\n",
       "      <td>20</td>\n",
       "    </tr>\n",
       "    <tr>\n",
       "      <th>20</th>\n",
       "      <td>fisichella</td>\n",
       "      <td>21</td>\n",
       "    </tr>\n",
       "    <tr>\n",
       "      <th>21</th>\n",
       "      <td>barrichello</td>\n",
       "      <td>22</td>\n",
       "    </tr>\n",
       "    <tr>\n",
       "      <th>22</th>\n",
       "      <td>raikkonen</td>\n",
       "      <td>8</td>\n",
       "    </tr>\n",
       "    <tr>\n",
       "      <th>23</th>\n",
       "      <td>kubica</td>\n",
       "      <td>9</td>\n",
       "    </tr>\n",
       "    <tr>\n",
       "      <th>24</th>\n",
       "      <td>kovalainen</td>\n",
       "      <td>5</td>\n",
       "    </tr>\n",
       "    <tr>\n",
       "      <th>25</th>\n",
       "      <td>trulli</td>\n",
       "      <td>15</td>\n",
       "    </tr>\n",
       "    <tr>\n",
       "      <th>26</th>\n",
       "      <td>hamilton</td>\n",
       "      <td>1</td>\n",
       "    </tr>\n",
       "    <tr>\n",
       "      <th>27</th>\n",
       "      <td>heidfeld</td>\n",
       "      <td>2</td>\n",
       "    </tr>\n",
       "    <tr>\n",
       "      <th>28</th>\n",
       "      <td>webber</td>\n",
       "      <td>17</td>\n",
       "    </tr>\n",
       "    <tr>\n",
       "      <th>29</th>\n",
       "      <td>alonso</td>\n",
       "      <td>4</td>\n",
       "    </tr>\n",
       "    <tr>\n",
       "      <th>...</th>\n",
       "      <td>...</td>\n",
       "      <td>...</td>\n",
       "    </tr>\n",
       "    <tr>\n",
       "      <th>23747</th>\n",
       "      <td>sainz</td>\n",
       "      <td>832</td>\n",
       "    </tr>\n",
       "    <tr>\n",
       "      <th>23748</th>\n",
       "      <td>gasly</td>\n",
       "      <td>842</td>\n",
       "    </tr>\n",
       "    <tr>\n",
       "      <th>23749</th>\n",
       "      <td>ericsson</td>\n",
       "      <td>828</td>\n",
       "    </tr>\n",
       "    <tr>\n",
       "      <th>23750</th>\n",
       "      <td>wehrlein</td>\n",
       "      <td>836</td>\n",
       "    </tr>\n",
       "    <tr>\n",
       "      <th>23751</th>\n",
       "      <td>grosjean</td>\n",
       "      <td>154</td>\n",
       "    </tr>\n",
       "    <tr>\n",
       "      <th>23752</th>\n",
       "      <td>stroll</td>\n",
       "      <td>840</td>\n",
       "    </tr>\n",
       "    <tr>\n",
       "      <th>23753</th>\n",
       "      <td>brendon_hartley</td>\n",
       "      <td>843</td>\n",
       "    </tr>\n",
       "    <tr>\n",
       "      <th>23754</th>\n",
       "      <td>ocon</td>\n",
       "      <td>839</td>\n",
       "    </tr>\n",
       "    <tr>\n",
       "      <th>23755</th>\n",
       "      <td>vandoorne</td>\n",
       "      <td>838</td>\n",
       "    </tr>\n",
       "    <tr>\n",
       "      <th>23756</th>\n",
       "      <td>kevin_magnussen</td>\n",
       "      <td>825</td>\n",
       "    </tr>\n",
       "    <tr>\n",
       "      <th>23757</th>\n",
       "      <td>bottas</td>\n",
       "      <td>822</td>\n",
       "    </tr>\n",
       "    <tr>\n",
       "      <th>23758</th>\n",
       "      <td>hamilton</td>\n",
       "      <td>1</td>\n",
       "    </tr>\n",
       "    <tr>\n",
       "      <th>23759</th>\n",
       "      <td>vettel</td>\n",
       "      <td>20</td>\n",
       "    </tr>\n",
       "    <tr>\n",
       "      <th>23760</th>\n",
       "      <td>raikkonen</td>\n",
       "      <td>8</td>\n",
       "    </tr>\n",
       "    <tr>\n",
       "      <th>23761</th>\n",
       "      <td>max_verstappen</td>\n",
       "      <td>830</td>\n",
       "    </tr>\n",
       "    <tr>\n",
       "      <th>23762</th>\n",
       "      <td>hulkenberg</td>\n",
       "      <td>807</td>\n",
       "    </tr>\n",
       "    <tr>\n",
       "      <th>23763</th>\n",
       "      <td>perez</td>\n",
       "      <td>815</td>\n",
       "    </tr>\n",
       "    <tr>\n",
       "      <th>23764</th>\n",
       "      <td>ocon</td>\n",
       "      <td>839</td>\n",
       "    </tr>\n",
       "    <tr>\n",
       "      <th>23765</th>\n",
       "      <td>alonso</td>\n",
       "      <td>4</td>\n",
       "    </tr>\n",
       "    <tr>\n",
       "      <th>23766</th>\n",
       "      <td>massa</td>\n",
       "      <td>13</td>\n",
       "    </tr>\n",
       "    <tr>\n",
       "      <th>23767</th>\n",
       "      <td>grosjean</td>\n",
       "      <td>154</td>\n",
       "    </tr>\n",
       "    <tr>\n",
       "      <th>23768</th>\n",
       "      <td>vandoorne</td>\n",
       "      <td>838</td>\n",
       "    </tr>\n",
       "    <tr>\n",
       "      <th>23769</th>\n",
       "      <td>kevin_magnussen</td>\n",
       "      <td>825</td>\n",
       "    </tr>\n",
       "    <tr>\n",
       "      <th>23770</th>\n",
       "      <td>wehrlein</td>\n",
       "      <td>836</td>\n",
       "    </tr>\n",
       "    <tr>\n",
       "      <th>23771</th>\n",
       "      <td>brendon_hartley</td>\n",
       "      <td>843</td>\n",
       "    </tr>\n",
       "    <tr>\n",
       "      <th>23772</th>\n",
       "      <td>gasly</td>\n",
       "      <td>842</td>\n",
       "    </tr>\n",
       "    <tr>\n",
       "      <th>23773</th>\n",
       "      <td>ericsson</td>\n",
       "      <td>828</td>\n",
       "    </tr>\n",
       "    <tr>\n",
       "      <th>23774</th>\n",
       "      <td>stroll</td>\n",
       "      <td>840</td>\n",
       "    </tr>\n",
       "    <tr>\n",
       "      <th>23775</th>\n",
       "      <td>sainz</td>\n",
       "      <td>832</td>\n",
       "    </tr>\n",
       "    <tr>\n",
       "      <th>23776</th>\n",
       "      <td>ricciardo</td>\n",
       "      <td>817</td>\n",
       "    </tr>\n",
       "  </tbody>\n",
       "</table>\n",
       "<p>23777 rows × 2 columns</p>\n",
       "</div>"
      ],
      "text/plain": [
       "             driverRef  driverId\n",
       "0             hamilton         1\n",
       "1             heidfeld         2\n",
       "2              rosberg         3\n",
       "3               alonso         4\n",
       "4           kovalainen         5\n",
       "5             nakajima         6\n",
       "6             bourdais         7\n",
       "7            raikkonen         8\n",
       "8               kubica         9\n",
       "9                glock        10\n",
       "10                sato        11\n",
       "11           piquet_jr        12\n",
       "12               massa        13\n",
       "13           coulthard        14\n",
       "14              trulli        15\n",
       "15               sutil        16\n",
       "16              webber        17\n",
       "17              button        18\n",
       "18            davidson        19\n",
       "19              vettel        20\n",
       "20          fisichella        21\n",
       "21         barrichello        22\n",
       "22           raikkonen         8\n",
       "23              kubica         9\n",
       "24          kovalainen         5\n",
       "25              trulli        15\n",
       "26            hamilton         1\n",
       "27            heidfeld         2\n",
       "28              webber        17\n",
       "29              alonso         4\n",
       "...                ...       ...\n",
       "23747            sainz       832\n",
       "23748            gasly       842\n",
       "23749         ericsson       828\n",
       "23750         wehrlein       836\n",
       "23751         grosjean       154\n",
       "23752           stroll       840\n",
       "23753  brendon_hartley       843\n",
       "23754             ocon       839\n",
       "23755        vandoorne       838\n",
       "23756  kevin_magnussen       825\n",
       "23757           bottas       822\n",
       "23758         hamilton         1\n",
       "23759           vettel        20\n",
       "23760        raikkonen         8\n",
       "23761   max_verstappen       830\n",
       "23762       hulkenberg       807\n",
       "23763            perez       815\n",
       "23764             ocon       839\n",
       "23765           alonso         4\n",
       "23766            massa        13\n",
       "23767         grosjean       154\n",
       "23768        vandoorne       838\n",
       "23769  kevin_magnussen       825\n",
       "23770         wehrlein       836\n",
       "23771  brendon_hartley       843\n",
       "23772            gasly       842\n",
       "23773         ericsson       828\n",
       "23774           stroll       840\n",
       "23775            sainz       832\n",
       "23776        ricciardo       817\n",
       "\n",
       "[23777 rows x 2 columns]"
      ]
     },
     "execution_count": 38,
     "metadata": {},
     "output_type": "execute_result"
    }
   ],
   "source": [
    "work_df.select('driverRef','driverId').toPandas()"
   ]
  },
  {
   "cell_type": "code",
   "execution_count": 44,
   "metadata": {},
   "outputs": [
    {
     "data": {
      "text/plain": [
       "843"
      ]
     },
     "execution_count": 44,
     "metadata": {},
     "output_type": "execute_result"
    }
   ],
   "source": [
    "max_driverId = work_df.agg({\"driverId\": \"max\"}).collect()[0][0]\n",
    "max_driverId"
   ]
  },
  {
   "cell_type": "code",
   "execution_count": 70,
   "metadata": {},
   "outputs": [
    {
     "name": "stdout",
     "output_type": "stream",
     "text": [
      "+--------+------+--------+-------------+--------+------+----+--------+------------+-------------+------+----+----+------------+----------+----+--------------+---------------+--------------+----------+-----------+--------------------+----+---------------+------+----+--------+-------+----------+-------------+--------------------+----+-----+---------+--------------------+-------------------+--------+--------------------+------+\n",
      "|statusId|raceId|driverId|constructorId|resultId|number|grid|position|positionText|positionOrder|points|laps|time|milliseconds|fastestLap|rank|fastestLapTime|fastestLapSpeed|constructorRef|      name|nationality|                 url| _c5|      driverRef|number|code|forename|surname|       dob|  nationality|                 url|year|round|circuitId|                name|               date|    time|                 url|status|\n",
      "+--------+------+--------+-------------+--------+------+----+--------+------------+-------------+------+----+----+------------+----------+----+--------------+---------------+--------------+----------+-----------+--------------------+----+---------------+------+----+--------+-------+----------+-------------+--------------------+----+-----+---------+--------------------+-------------------+--------+--------------------+------+\n",
      "|      11|   985|     843|            5|   23714|    39|  19|      13|          13|           13|   0.0|  55|null|        null|        47|   8|       01:40.0|        198.509|    toro_rosso|Toro Rosso|    Italian|http://en.wikiped...|null|brendon_hartley|    39| HAR| Brendon|Hartley|10/11/1989|New Zealander|http://en.wikiped...|2017|   17|       69|United States Gra...|2017-10-22 00:00:00|19:00:00|https://en.wikipe...|+1 Lap|\n",
      "|       5|   986|     843|            5|   23739|    28|  17|    null|           R|           18|   0.0|  30|null|        null|        28|  19|       01:22.6|        187.647|    toro_rosso|Toro Rosso|    Italian|http://en.wikiped...|null|brendon_hartley|    39| HAR| Brendon|Hartley|10/11/1989|New Zealander|http://en.wikiped...|2017|   18|       32|  Mexican Grand Prix|2017-10-29 00:00:00|19:00:00|https://en.wikipe...|Engine|\n",
      "|       5|   987|     843|            5|   23758|    28|  18|    null|           R|           17|   0.0|  40|null|        null|        29|  16|       01:14.7|        207.779|    toro_rosso|Toro Rosso|    Italian|http://en.wikiped...|null|brendon_hartley|    39| HAR| Brendon|Hartley|10/11/1989|New Zealander|http://en.wikiped...|2017|   19|       18|Brazilian Grand Prix|2017-11-12 00:00:00|16:00:00|https://en.wikipe...|Engine|\n",
      "|      11|   988|     843|            5|   23776|    28|  20|      15|          15|           15|   0.0|  54|null|        null|        52|  18|       01:43.9|        192.444|    toro_rosso|Toro Rosso|    Italian|http://en.wikiped...|null|brendon_hartley|    39| HAR| Brendon|Hartley|10/11/1989|New Zealander|http://en.wikiped...|2017|   20|       24|Abu Dhabi Grand Prix|2017-11-26 00:00:00|13:00:00|https://en.wikipe...|+1 Lap|\n",
      "+--------+------+--------+-------------+--------+------+----+--------+------------+-------------+------+----+----+------------+----------+----+--------------+---------------+--------------+----------+-----------+--------------------+----+---------------+------+----+--------+-------+----------+-------------+--------------------+----+-----+---------+--------------------+-------------------+--------+--------------------+------+\n",
      "\n"
     ]
    }
   ],
   "source": [
    "work_df.filter(work_df.driverId == max_driverId).show()"
   ]
  },
  {
   "cell_type": "code",
   "execution_count": 53,
   "metadata": {},
   "outputs": [],
   "source": [
    "max_driver_RDD = work_df.filter(work_df.driverId == max_driverId)"
   ]
  },
  {
   "cell_type": "code",
   "execution_count": 69,
   "metadata": {},
   "outputs": [
    {
     "data": {
      "text/plain": [
       "'brendon_hartley'"
      ]
     },
     "execution_count": 69,
     "metadata": {},
     "output_type": "execute_result"
    }
   ],
   "source": [
    "max_driver_RDD.select('driverRef','driverId').collect()[0][0]"
   ]
  }
 ],
 "metadata": {
  "kernelspec": {
   "display_name": "Python 3",
   "language": "python",
   "name": "python3"
  },
  "language_info": {
   "codemirror_mode": {
    "name": "ipython",
    "version": 3
   },
   "file_extension": ".py",
   "mimetype": "text/x-python",
   "name": "python",
   "nbconvert_exporter": "python",
   "pygments_lexer": "ipython3",
   "version": "3.7.3"
  }
 },
 "nbformat": 4,
 "nbformat_minor": 2
}
