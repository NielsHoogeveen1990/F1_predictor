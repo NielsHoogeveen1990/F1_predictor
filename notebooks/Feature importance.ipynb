{
 "cells": [
  {
   "cell_type": "code",
   "execution_count": 5,
   "metadata": {},
   "outputs": [
    {
     "name": "stdout",
     "output_type": "stream",
     "text": [
      "The autoreload extension is already loaded. To reload it, use:\n",
      "  %reload_ext autoreload\n"
     ]
    }
   ],
   "source": [
    "%load_ext autoreload\n",
    "%autoreload 2\n",
    "\n",
    "import pandas as pd\n",
    "import numpy as np\n",
    "import matplotlib.pyplot as plt\n",
    "import pickle\n",
    "%matplotlib inline\n",
    "\n",
    "\n",
    "import logging\n",
    "logging.basicConfig(level=logging.INFO)"
   ]
  },
  {
   "cell_type": "code",
   "execution_count": 6,
   "metadata": {},
   "outputs": [],
   "source": [
    "from sklearn.ensemble import RandomForestClassifier\n",
    "from formula1.preprocessing_newdata import get_clean_df"
   ]
  },
  {
   "cell_type": "code",
   "execution_count": 7,
   "metadata": {},
   "outputs": [],
   "source": [
    "pd.set_option('display.width', 500)\n",
    "pd.set_option('display.max_columns', 100) "
   ]
  },
  {
   "cell_type": "code",
   "execution_count": 8,
   "metadata": {},
   "outputs": [],
   "source": [
    "# load pickled model\n",
    "forest = pickle.load(open('../trained_models/simple_model.pkl', 'rb'))"
   ]
  },
  {
   "cell_type": "code",
   "execution_count": 9,
   "metadata": {},
   "outputs": [
    {
     "data": {
      "text/plain": [
       "[('featureunion', FeatureUnion(n_jobs=None,\n",
       "         transformer_list=[('pipeline-1', Pipeline(memory=None,\n",
       "       steps=[('dtypeselector', DTypeSelector(dtypes='number')), ('corrfilterhightotalcorrelation', CorrFilterHighTotalCorrelation()), ('simpleimputer', SimpleImputer(copy=True, fill_value=None, missing_values=nan,\n",
       "         strategy='median', verbos...s=[('dtypeselector', DTypeSelector(dtypes='object')), ('differenceencoder', DifferenceEncoder())]))],\n",
       "         transformer_weights=None)),\n",
       " ('randomforestclassifier',\n",
       "  RandomForestClassifier(bootstrap=True, class_weight=None, criterion='gini',\n",
       "              max_depth=None, max_features='auto', max_leaf_nodes=None,\n",
       "              min_impurity_decrease=0.0, min_impurity_split=None,\n",
       "              min_samples_leaf=1, min_samples_split=2,\n",
       "              min_weight_fraction_leaf=0.0, n_estimators=10, n_jobs=None,\n",
       "              oob_score=False, random_state=None, verbose=0,\n",
       "              warm_start=False))]"
      ]
     },
     "execution_count": 9,
     "metadata": {},
     "output_type": "execute_result"
    }
   ],
   "source": [
    "forest.steps"
   ]
  },
  {
   "cell_type": "code",
   "execution_count": 12,
   "metadata": {},
   "outputs": [
    {
     "name": "stderr",
     "output_type": "stream",
     "text": [
      "INFO:formula1.utils:[read_data         ] shape=(24297, 18),  time=0:00:00.055145\n",
      "INFO:formula1.utils:[merge_constructors] shape=(24297, 19),  time=0:00:00.019989\n",
      "INFO:formula1.utils:[merge_drivers     ] shape=(24297, 27),  time=0:00:00.015375\n",
      "INFO:formula1.utils:[merge_races       ] shape=(24297, 34),  time=0:00:00.017831\n",
      "INFO:formula1.utils:[merge_status      ] shape=(24297, 35),  time=0:00:00.013246\n",
      "INFO:formula1.utils:[merge_driverstandi] shape=(24297, 40),  time=0:00:00.039549\n",
      "INFO:formula1.utils:[remove_columns    ] shape=(24297, 30),  time=0:00:00.017849\n",
      "INFO:formula1.utils:[rename_columns    ] shape=(24297, 30),  time=0:00:00.006352\n",
      "INFO:formula1.utils:[sort_races        ] shape=(24297, 30),  time=0:00:00.006499\n",
      "INFO:formula1.utils:[average_finishing ] shape=(24297, 31),  time=0:00:00.476907\n",
      "INFO:formula1.utils:[average_finishing_] shape=(24297, 32),  time=0:00:04.228633\n",
      "INFO:formula1.utils:[result_previous_ra] shape=(24297, 33),  time=0:00:00.005130\n",
      "INFO:formula1.utils:[mean_last_5races  ] shape=(24297, 34),  time=0:00:00.456103\n",
      "INFO:formula1.utils:[last_race_at_circu] shape=(24297, 35),  time=0:00:02.273498\n",
      "INFO:formula1.utils:[get_wins          ] shape=(24297, 36),  time=0:00:00.004509\n",
      "INFO:formula1.utils:[get_wins_per_circu] shape=(24297, 37),  time=0:00:04.227973\n",
      "INFO:formula1.utils:[get_poles         ] shape=(24297, 38),  time=0:00:00.009424\n",
      "INFO:formula1.utils:[get_poles_per_circ] shape=(24297, 39),  time=0:00:04.152262\n",
      "INFO:formula1.utils:[get_total_wins    ] shape=(24297, 40),  time=0:00:00.456994\n",
      "INFO:formula1.utils:[current_wins_inyea] shape=(24297, 41),  time=0:00:00.878486\n",
      "INFO:formula1.utils:[get_total_poles   ] shape=(24297, 42),  time=0:00:00.485596\n",
      "INFO:formula1.utils:[get_podiums       ] shape=(24297, 43),  time=0:00:00.012437\n",
      "INFO:formula1.utils:[get_total_podiums ] shape=(24297, 44),  time=0:00:00.465171\n",
      "INFO:formula1.utils:[get_podiums_per_ci] shape=(24297, 45),  time=0:00:04.191425\n",
      "INFO:formula1.utils:[change_datetime   ] shape=(24297, 45),  time=0:00:00.028512\n",
      "INFO:formula1.utils:[get_driver_age    ] shape=(24297, 47),  time=0:00:00.006092\n",
      "INFO:formula1.utils:[get_career_years  ] shape=(24297, 48),  time=0:00:00.353960\n",
      "INFO:formula1.utils:[get_DNF           ] shape=(24297, 49),  time=0:00:00.005987\n",
      "INFO:formula1.utils:[get_DNF_last5races] shape=(24297, 50),  time=0:00:00.484701\n",
      "INFO:formula1.utils:[racecounter_per_dr] shape=(24297, 51),  time=0:00:00.005580\n",
      "INFO:formula1.utils:[last_race         ] shape=(24297, 52),  time=0:00:00.028917\n",
      "INFO:formula1.utils:[current_championsh] shape=(24297, 53),  time=0:00:00.004830\n",
      "INFO:formula1.utils:[remove_remaining_c] shape=(24297, 33),  time=0:00:00.004856\n",
      "INFO:formula1.utils:[get_combinations  ] shape=(613477, 65),  time=0:00:01.074360\n",
      "INFO:formula1.utils:[filter_combination] shape=(588990, 65),  time=0:00:00.624120\n",
      "INFO:formula1.utils:[get_winning_driver] shape=(588990, 66),  time=0:00:00.068892\n",
      "INFO:formula1.utils:[previous_race_duel] shape=(588990, 67),  time=0:00:14.919283\n",
      "INFO:formula1.utils:[get_final_dataset ] shape=(588990, 39),  time=0:00:00.113274\n",
      "INFO:formula1.utils:[fill_na_rows      ] shape=(588990, 39),  time=0:00:00.946358\n",
      "INFO:formula1.utils:[drop_na_rows      ] shape=(284276, 39),  time=0:00:00.383533\n"
     ]
    }
   ],
   "source": [
    "work_df = get_clean_df()"
   ]
  },
  {
   "cell_type": "code",
   "execution_count": 13,
   "metadata": {},
   "outputs": [
    {
     "data": {
      "text/html": [
       "<div>\n",
       "<style scoped>\n",
       "    .dataframe tbody tr th:only-of-type {\n",
       "        vertical-align: middle;\n",
       "    }\n",
       "\n",
       "    .dataframe tbody tr th {\n",
       "        vertical-align: top;\n",
       "    }\n",
       "\n",
       "    .dataframe thead th {\n",
       "        text-align: right;\n",
       "    }\n",
       "</style>\n",
       "<table border=\"1\" class=\"dataframe\">\n",
       "  <thead>\n",
       "    <tr style=\"text-align: right;\">\n",
       "      <th></th>\n",
       "      <th>constructorRef_left</th>\n",
       "      <th>year_left</th>\n",
       "      <th>mean_position_till_date_left</th>\n",
       "      <th>mean_position__percircuit_till_date_left</th>\n",
       "      <th>result_previous_race_left</th>\n",
       "      <th>mean_last5_races_left</th>\n",
       "      <th>last_race_at_circuit_left</th>\n",
       "      <th>win_per_circuit_left</th>\n",
       "      <th>poles_per_circuit_left</th>\n",
       "      <th>total_wins_left</th>\n",
       "      <th>wins_this_year_cumulative_left</th>\n",
       "      <th>total_poles_left</th>\n",
       "      <th>total_podiums_left</th>\n",
       "      <th>podium_per_circuit_left</th>\n",
       "      <th>current_age_years_left</th>\n",
       "      <th>career_years_left</th>\n",
       "      <th>dnf_last5_left</th>\n",
       "      <th>race_count_left</th>\n",
       "      <th>championship_standing_before_race_left</th>\n",
       "      <th>constructorRef_right</th>\n",
       "      <th>mean_position_till_date_right</th>\n",
       "      <th>mean_position__percircuit_till_date_right</th>\n",
       "      <th>result_previous_race_right</th>\n",
       "      <th>mean_last5_races_right</th>\n",
       "      <th>last_race_at_circuit_right</th>\n",
       "      <th>win_per_circuit_right</th>\n",
       "      <th>poles_per_circuit_right</th>\n",
       "      <th>total_wins_right</th>\n",
       "      <th>wins_this_year_cumulative_right</th>\n",
       "      <th>total_poles_right</th>\n",
       "      <th>total_podiums_right</th>\n",
       "      <th>podium_per_circuit_right</th>\n",
       "      <th>current_age_years_right</th>\n",
       "      <th>career_years_right</th>\n",
       "      <th>dnf_last5_right</th>\n",
       "      <th>race_count_right</th>\n",
       "      <th>championship_standing_before_race_right</th>\n",
       "      <th>leftwon</th>\n",
       "      <th>left_won_previous_race</th>\n",
       "    </tr>\n",
       "  </thead>\n",
       "  <tbody>\n",
       "    <tr>\n",
       "      <th>3957</th>\n",
       "      <td>alfa</td>\n",
       "      <td>1951</td>\n",
       "      <td>7.857143</td>\n",
       "      <td>12.0</td>\n",
       "      <td>15.0</td>\n",
       "      <td>8.4</td>\n",
       "      <td>12.0</td>\n",
       "      <td>0.0</td>\n",
       "      <td>1.0</td>\n",
       "      <td>3.0</td>\n",
       "      <td>0.0</td>\n",
       "      <td>4.0</td>\n",
       "      <td>3.0</td>\n",
       "      <td>0.0</td>\n",
       "      <td>39.92416</td>\n",
       "      <td>1</td>\n",
       "      <td>3.0</td>\n",
       "      <td>8</td>\n",
       "      <td>2.0</td>\n",
       "      <td>alfa</td>\n",
       "      <td>4.166667</td>\n",
       "      <td>1.0</td>\n",
       "      <td>1.0</td>\n",
       "      <td>4.8</td>\n",
       "      <td>1.0</td>\n",
       "      <td>1.0</td>\n",
       "      <td>0.0</td>\n",
       "      <td>3.0</td>\n",
       "      <td>0.0</td>\n",
       "      <td>2.0</td>\n",
       "      <td>3.0</td>\n",
       "      <td>1.0</td>\n",
       "      <td>44.573126</td>\n",
       "      <td>1</td>\n",
       "      <td>2.0</td>\n",
       "      <td>7</td>\n",
       "      <td>1.0</td>\n",
       "      <td>1</td>\n",
       "      <td>0.0</td>\n",
       "    </tr>\n",
       "    <tr>\n",
       "      <th>3963</th>\n",
       "      <td>alfa</td>\n",
       "      <td>1951</td>\n",
       "      <td>7.857143</td>\n",
       "      <td>12.0</td>\n",
       "      <td>15.0</td>\n",
       "      <td>8.4</td>\n",
       "      <td>12.0</td>\n",
       "      <td>0.0</td>\n",
       "      <td>1.0</td>\n",
       "      <td>3.0</td>\n",
       "      <td>0.0</td>\n",
       "      <td>4.0</td>\n",
       "      <td>3.0</td>\n",
       "      <td>0.0</td>\n",
       "      <td>39.92416</td>\n",
       "      <td>1</td>\n",
       "      <td>3.0</td>\n",
       "      <td>8</td>\n",
       "      <td>2.0</td>\n",
       "      <td>ferrari</td>\n",
       "      <td>8.600000</td>\n",
       "      <td>17.0</td>\n",
       "      <td>17.0</td>\n",
       "      <td>8.6</td>\n",
       "      <td>17.0</td>\n",
       "      <td>0.0</td>\n",
       "      <td>0.0</td>\n",
       "      <td>0.0</td>\n",
       "      <td>0.0</td>\n",
       "      <td>0.0</td>\n",
       "      <td>2.0</td>\n",
       "      <td>0.0</td>\n",
       "      <td>32.871312</td>\n",
       "      <td>1</td>\n",
       "      <td>2.0</td>\n",
       "      <td>6</td>\n",
       "      <td>5.0</td>\n",
       "      <td>1</td>\n",
       "      <td>1.0</td>\n",
       "    </tr>\n",
       "    <tr>\n",
       "      <th>3966</th>\n",
       "      <td>alfa</td>\n",
       "      <td>1951</td>\n",
       "      <td>7.857143</td>\n",
       "      <td>12.0</td>\n",
       "      <td>15.0</td>\n",
       "      <td>8.4</td>\n",
       "      <td>12.0</td>\n",
       "      <td>0.0</td>\n",
       "      <td>1.0</td>\n",
       "      <td>3.0</td>\n",
       "      <td>0.0</td>\n",
       "      <td>4.0</td>\n",
       "      <td>3.0</td>\n",
       "      <td>0.0</td>\n",
       "      <td>39.92416</td>\n",
       "      <td>1</td>\n",
       "      <td>3.0</td>\n",
       "      <td>8</td>\n",
       "      <td>2.0</td>\n",
       "      <td>maserati</td>\n",
       "      <td>13.400000</td>\n",
       "      <td>9.0</td>\n",
       "      <td>22.0</td>\n",
       "      <td>13.4</td>\n",
       "      <td>9.0</td>\n",
       "      <td>0.0</td>\n",
       "      <td>0.0</td>\n",
       "      <td>0.0</td>\n",
       "      <td>0.0</td>\n",
       "      <td>0.0</td>\n",
       "      <td>1.0</td>\n",
       "      <td>0.0</td>\n",
       "      <td>51.812152</td>\n",
       "      <td>1</td>\n",
       "      <td>3.0</td>\n",
       "      <td>6</td>\n",
       "      <td>10.0</td>\n",
       "      <td>1</td>\n",
       "      <td>1.0</td>\n",
       "    </tr>\n",
       "    <tr>\n",
       "      <th>3968</th>\n",
       "      <td>alfa</td>\n",
       "      <td>1951</td>\n",
       "      <td>7.857143</td>\n",
       "      <td>12.0</td>\n",
       "      <td>15.0</td>\n",
       "      <td>8.4</td>\n",
       "      <td>12.0</td>\n",
       "      <td>0.0</td>\n",
       "      <td>1.0</td>\n",
       "      <td>3.0</td>\n",
       "      <td>0.0</td>\n",
       "      <td>4.0</td>\n",
       "      <td>3.0</td>\n",
       "      <td>0.0</td>\n",
       "      <td>39.92416</td>\n",
       "      <td>1</td>\n",
       "      <td>3.0</td>\n",
       "      <td>8</td>\n",
       "      <td>2.0</td>\n",
       "      <td>lago</td>\n",
       "      <td>6.571429</td>\n",
       "      <td>3.0</td>\n",
       "      <td>4.0</td>\n",
       "      <td>5.6</td>\n",
       "      <td>3.0</td>\n",
       "      <td>0.0</td>\n",
       "      <td>0.0</td>\n",
       "      <td>0.0</td>\n",
       "      <td>0.0</td>\n",
       "      <td>0.0</td>\n",
       "      <td>2.0</td>\n",
       "      <td>1.0</td>\n",
       "      <td>45.556035</td>\n",
       "      <td>1</td>\n",
       "      <td>3.0</td>\n",
       "      <td>8</td>\n",
       "      <td>4.0</td>\n",
       "      <td>1</td>\n",
       "      <td>0.0</td>\n",
       "    </tr>\n",
       "    <tr>\n",
       "      <th>3970</th>\n",
       "      <td>alfa</td>\n",
       "      <td>1951</td>\n",
       "      <td>7.857143</td>\n",
       "      <td>12.0</td>\n",
       "      <td>15.0</td>\n",
       "      <td>8.4</td>\n",
       "      <td>12.0</td>\n",
       "      <td>0.0</td>\n",
       "      <td>1.0</td>\n",
       "      <td>3.0</td>\n",
       "      <td>0.0</td>\n",
       "      <td>4.0</td>\n",
       "      <td>3.0</td>\n",
       "      <td>0.0</td>\n",
       "      <td>39.92416</td>\n",
       "      <td>1</td>\n",
       "      <td>3.0</td>\n",
       "      <td>8</td>\n",
       "      <td>2.0</td>\n",
       "      <td>lago</td>\n",
       "      <td>8.833333</td>\n",
       "      <td>13.0</td>\n",
       "      <td>5.0</td>\n",
       "      <td>9.0</td>\n",
       "      <td>13.0</td>\n",
       "      <td>0.0</td>\n",
       "      <td>0.0</td>\n",
       "      <td>0.0</td>\n",
       "      <td>0.0</td>\n",
       "      <td>0.0</td>\n",
       "      <td>0.0</td>\n",
       "      <td>0.0</td>\n",
       "      <td>54.407688</td>\n",
       "      <td>1</td>\n",
       "      <td>5.0</td>\n",
       "      <td>7</td>\n",
       "      <td>18.0</td>\n",
       "      <td>1</td>\n",
       "      <td>0.0</td>\n",
       "    </tr>\n",
       "  </tbody>\n",
       "</table>\n",
       "</div>"
      ],
      "text/plain": [
       "     constructorRef_left  year_left  mean_position_till_date_left  mean_position__percircuit_till_date_left  result_previous_race_left  mean_last5_races_left  last_race_at_circuit_left  win_per_circuit_left  poles_per_circuit_left  total_wins_left  wins_this_year_cumulative_left  total_poles_left  total_podiums_left  podium_per_circuit_left  current_age_years_left  career_years_left  dnf_last5_left  race_count_left  championship_standing_before_race_left constructorRef_right  \\\n",
       "3957                alfa       1951                      7.857143                                      12.0                       15.0                    8.4                       12.0                   0.0                     1.0              3.0                             0.0               4.0                 3.0                      0.0                39.92416                  1             3.0                8                                     2.0                 alfa   \n",
       "3963                alfa       1951                      7.857143                                      12.0                       15.0                    8.4                       12.0                   0.0                     1.0              3.0                             0.0               4.0                 3.0                      0.0                39.92416                  1             3.0                8                                     2.0              ferrari   \n",
       "3966                alfa       1951                      7.857143                                      12.0                       15.0                    8.4                       12.0                   0.0                     1.0              3.0                             0.0               4.0                 3.0                      0.0                39.92416                  1             3.0                8                                     2.0             maserati   \n",
       "3968                alfa       1951                      7.857143                                      12.0                       15.0                    8.4                       12.0                   0.0                     1.0              3.0                             0.0               4.0                 3.0                      0.0                39.92416                  1             3.0                8                                     2.0                 lago   \n",
       "3970                alfa       1951                      7.857143                                      12.0                       15.0                    8.4                       12.0                   0.0                     1.0              3.0                             0.0               4.0                 3.0                      0.0                39.92416                  1             3.0                8                                     2.0                 lago   \n",
       "\n",
       "      mean_position_till_date_right  mean_position__percircuit_till_date_right  result_previous_race_right  mean_last5_races_right  last_race_at_circuit_right  win_per_circuit_right  poles_per_circuit_right  total_wins_right  wins_this_year_cumulative_right  total_poles_right  total_podiums_right  podium_per_circuit_right  current_age_years_right  career_years_right  dnf_last5_right  race_count_right  championship_standing_before_race_right  leftwon  left_won_previous_race  \n",
       "3957                       4.166667                                        1.0                         1.0                     4.8                         1.0                    1.0                      0.0               3.0                              0.0                2.0                  3.0                       1.0                44.573126                   1              2.0                 7                                      1.0        1                     0.0  \n",
       "3963                       8.600000                                       17.0                        17.0                     8.6                        17.0                    0.0                      0.0               0.0                              0.0                0.0                  2.0                       0.0                32.871312                   1              2.0                 6                                      5.0        1                     1.0  \n",
       "3966                      13.400000                                        9.0                        22.0                    13.4                         9.0                    0.0                      0.0               0.0                              0.0                0.0                  1.0                       0.0                51.812152                   1              3.0                 6                                     10.0        1                     1.0  \n",
       "3968                       6.571429                                        3.0                         4.0                     5.6                         3.0                    0.0                      0.0               0.0                              0.0                0.0                  2.0                       1.0                45.556035                   1              3.0                 8                                      4.0        1                     0.0  \n",
       "3970                       8.833333                                       13.0                         5.0                     9.0                        13.0                    0.0                      0.0               0.0                              0.0                0.0                  0.0                       0.0                54.407688                   1              5.0                 7                                     18.0        1                     0.0  "
      ]
     },
     "execution_count": 13,
     "metadata": {},
     "output_type": "execute_result"
    }
   ],
   "source": [
    "work_df.head()"
   ]
  },
  {
   "cell_type": "code",
   "execution_count": 22,
   "metadata": {},
   "outputs": [],
   "source": [
    "X = work_df.drop(columns='leftwon')"
   ]
  },
  {
   "cell_type": "code",
   "execution_count": 16,
   "metadata": {},
   "outputs": [],
   "source": [
    "feat_labels = work_df.drop(columns='leftwon').columns"
   ]
  },
  {
   "cell_type": "code",
   "execution_count": 17,
   "metadata": {},
   "outputs": [
    {
     "data": {
      "text/plain": [
       "Index(['constructorRef_left', 'year_left', 'mean_position_till_date_left', 'mean_position__percircuit_till_date_left', 'result_previous_race_left', 'mean_last5_races_left', 'last_race_at_circuit_left', 'win_per_circuit_left', 'poles_per_circuit_left', 'total_wins_left', 'wins_this_year_cumulative_left', 'total_poles_left', 'total_podiums_left', 'podium_per_circuit_left', 'current_age_years_left', 'career_years_left', 'dnf_last5_left', 'race_count_left', 'championship_standing_before_race_left',\n",
       "       'constructorRef_right', 'mean_position_till_date_right', 'mean_position__percircuit_till_date_right', 'result_previous_race_right', 'mean_last5_races_right', 'last_race_at_circuit_right', 'win_per_circuit_right', 'poles_per_circuit_right', 'total_wins_right', 'wins_this_year_cumulative_right', 'total_poles_right', 'total_podiums_right', 'podium_per_circuit_right', 'current_age_years_right', 'career_years_right', 'dnf_last5_right', 'race_count_right',\n",
       "       'championship_standing_before_race_right', 'left_won_previous_race'],\n",
       "      dtype='object')"
      ]
     },
     "execution_count": 17,
     "metadata": {},
     "output_type": "execute_result"
    }
   ],
   "source": [
    "feat_labels"
   ]
  },
  {
   "cell_type": "code",
   "execution_count": 19,
   "metadata": {},
   "outputs": [],
   "source": [
    "importances = forest.steps[1][1].feature_importances_"
   ]
  },
  {
   "cell_type": "code",
   "execution_count": 20,
   "metadata": {},
   "outputs": [],
   "source": [
    "indices = np.argsort(importances)[::-1]"
   ]
  },
  {
   "cell_type": "code",
   "execution_count": 21,
   "metadata": {},
   "outputs": [
    {
     "data": {
      "text/plain": [
       "array([ 0, 11, 21, 18, 24,  7, 20,  9, 10, 23, 12,  2,  1, 13,  6, 17, 19,\n",
       "        8, 22,  5, 16,  4, 15,  3, 14])"
      ]
     },
     "execution_count": 21,
     "metadata": {},
     "output_type": "execute_result"
    }
   ],
   "source": [
    "indices"
   ]
  },
  {
   "cell_type": "code",
   "execution_count": null,
   "metadata": {},
   "outputs": [],
   "source": [
    "for i in range(X.shape[1]):\n",
    "    "
   ]
  },
  {
   "cell_type": "code",
   "execution_count": 27,
   "metadata": {},
   "outputs": [
    {
     "name": "stdout",
     "output_type": "stream",
     "text": [
      " 1) constructorRef_left                                                    0.069591\n",
      " 2) total_poles_left                                                       0.067655\n",
      " 3) mean_position__percircuit_till_date_right                              0.063417\n",
      " 4) championship_standing_before_race_left                                 0.063060\n",
      " 5) last_race_at_circuit_right                                             0.062969\n",
      " 6) win_per_circuit_left                                                   0.062739\n",
      " 7) mean_position_till_date_right                                          0.058266\n",
      " 8) total_wins_left                                                        0.057711\n",
      " 9) wins_this_year_cumulative_left                                         0.056407\n",
      "10) mean_last5_races_right                                                 0.053082\n",
      "11) total_podiums_left                                                     0.050061\n",
      "12) mean_position_till_date_left                                           0.049700\n",
      "13) year_left                                                              0.049290\n",
      "14) podium_per_circuit_left                                                0.048667\n",
      "15) last_race_at_circuit_left                                              0.039487\n",
      "16) race_count_left                                                        0.034958\n",
      "17) constructorRef_right                                                   0.023604\n",
      "18) poles_per_circuit_left                                                 0.023384\n",
      "19) result_previous_race_right                                             0.016455\n",
      "20) mean_last5_races_left                                                  0.014137\n",
      "21) dnf_last5_left                                                         0.009160\n",
      "22) result_previous_race_left                                              0.006919\n",
      "23) career_years_left                                                      0.006521\n",
      "24) mean_position__percircuit_till_date_left                               0.006445\n",
      "25) current_age_years_left                                                 0.006315\n"
     ]
    },
    {
     "ename": "IndexError",
     "evalue": "index 25 is out of bounds for axis 0 with size 25",
     "output_type": "error",
     "traceback": [
      "\u001b[0;31m---------------------------------------------------------------------------\u001b[0m",
      "\u001b[0;31mIndexError\u001b[0m                                Traceback (most recent call last)",
      "\u001b[0;32m<ipython-input-27-8fd3db126aa7>\u001b[0m in \u001b[0;36m<module>\u001b[0;34m\u001b[0m\n\u001b[1;32m      1\u001b[0m \u001b[0;32mfor\u001b[0m \u001b[0mf\u001b[0m \u001b[0;32min\u001b[0m \u001b[0mrange\u001b[0m\u001b[0;34m(\u001b[0m\u001b[0mX\u001b[0m\u001b[0;34m.\u001b[0m\u001b[0mshape\u001b[0m\u001b[0;34m[\u001b[0m\u001b[0;36m1\u001b[0m\u001b[0;34m]\u001b[0m\u001b[0;34m)\u001b[0m\u001b[0;34m:\u001b[0m\u001b[0;34m\u001b[0m\u001b[0;34m\u001b[0m\u001b[0m\n\u001b[1;32m      2\u001b[0m     print(\"%2d) %-*s %f\" % (f + 1, 70,\n\u001b[0;32m----> 3\u001b[0;31m                             \u001b[0mfeat_labels\u001b[0m\u001b[0;34m[\u001b[0m\u001b[0mindices\u001b[0m\u001b[0;34m[\u001b[0m\u001b[0mf\u001b[0m\u001b[0;34m]\u001b[0m\u001b[0;34m]\u001b[0m\u001b[0;34m,\u001b[0m\u001b[0;34m\u001b[0m\u001b[0;34m\u001b[0m\u001b[0m\n\u001b[0m\u001b[1;32m      4\u001b[0m                             importances[indices[f]]))\n",
      "\u001b[0;31mIndexError\u001b[0m: index 25 is out of bounds for axis 0 with size 25"
     ]
    }
   ],
   "source": [
    "for f in range(X.shape[1]):\n",
    "    print(\"%2d) %-*s %f\" % (f + 1, 70,\n",
    "                            feat_labels[indices[f]],\n",
    "                            importances[indices[f]]))\n"
   ]
  },
  {
   "cell_type": "code",
   "execution_count": null,
   "metadata": {},
   "outputs": [],
   "source": []
  },
  {
   "cell_type": "code",
   "execution_count": null,
   "metadata": {},
   "outputs": [],
   "source": []
  },
  {
   "cell_type": "code",
   "execution_count": 33,
   "metadata": {},
   "outputs": [
    {
     "name": "stdout",
     "output_type": "stream",
     "text": [
      "Feature ranking:\n",
      "1. feature 0 (0.069591)\n",
      "2. feature 11 (0.067655)\n",
      "3. feature 21 (0.063417)\n",
      "4. feature 18 (0.063060)\n",
      "5. feature 24 (0.062969)\n",
      "6. feature 7 (0.062739)\n",
      "7. feature 20 (0.058266)\n",
      "8. feature 9 (0.057711)\n",
      "9. feature 10 (0.056407)\n",
      "10. feature 23 (0.053082)\n",
      "11. feature 12 (0.050061)\n",
      "12. feature 2 (0.049700)\n",
      "13. feature 1 (0.049290)\n",
      "14. feature 13 (0.048667)\n",
      "15. feature 6 (0.039487)\n",
      "16. feature 17 (0.034958)\n",
      "17. feature 19 (0.023604)\n",
      "18. feature 8 (0.023384)\n",
      "19. feature 22 (0.016455)\n",
      "20. feature 5 (0.014137)\n",
      "21. feature 16 (0.009160)\n",
      "22. feature 4 (0.006919)\n",
      "23. feature 15 (0.006521)\n",
      "24. feature 3 (0.006445)\n",
      "25. feature 14 (0.006315)\n"
     ]
    },
    {
     "ename": "IndexError",
     "evalue": "index 25 is out of bounds for axis 0 with size 25",
     "output_type": "error",
     "traceback": [
      "\u001b[0;31m---------------------------------------------------------------------------\u001b[0m",
      "\u001b[0;31mIndexError\u001b[0m                                Traceback (most recent call last)",
      "\u001b[0;32m<ipython-input-33-73550f052ba7>\u001b[0m in \u001b[0;36m<module>\u001b[0;34m\u001b[0m\n\u001b[1;32m      7\u001b[0m \u001b[0;34m\u001b[0m\u001b[0m\n\u001b[1;32m      8\u001b[0m \u001b[0;32mfor\u001b[0m \u001b[0mf\u001b[0m \u001b[0;32min\u001b[0m \u001b[0mrange\u001b[0m\u001b[0;34m(\u001b[0m\u001b[0mX\u001b[0m\u001b[0;34m.\u001b[0m\u001b[0mshape\u001b[0m\u001b[0;34m[\u001b[0m\u001b[0;36m1\u001b[0m\u001b[0;34m]\u001b[0m\u001b[0;34m)\u001b[0m\u001b[0;34m:\u001b[0m\u001b[0;34m\u001b[0m\u001b[0;34m\u001b[0m\u001b[0m\n\u001b[0;32m----> 9\u001b[0;31m     \u001b[0mprint\u001b[0m\u001b[0;34m(\u001b[0m\u001b[0;34m\"%d. feature %d (%f)\"\u001b[0m \u001b[0;34m%\u001b[0m \u001b[0;34m(\u001b[0m\u001b[0mf\u001b[0m \u001b[0;34m+\u001b[0m \u001b[0;36m1\u001b[0m\u001b[0;34m,\u001b[0m \u001b[0mindices\u001b[0m\u001b[0;34m[\u001b[0m\u001b[0mf\u001b[0m\u001b[0;34m]\u001b[0m\u001b[0;34m,\u001b[0m \u001b[0mimportances\u001b[0m\u001b[0;34m[\u001b[0m\u001b[0mindices\u001b[0m\u001b[0;34m[\u001b[0m\u001b[0mf\u001b[0m\u001b[0;34m]\u001b[0m\u001b[0;34m]\u001b[0m\u001b[0;34m)\u001b[0m\u001b[0;34m)\u001b[0m\u001b[0;34m\u001b[0m\u001b[0;34m\u001b[0m\u001b[0m\n\u001b[0m\u001b[1;32m     10\u001b[0m \u001b[0;34m\u001b[0m\u001b[0m\n\u001b[1;32m     11\u001b[0m \u001b[0;31m# Plot the feature importances of the forest\u001b[0m\u001b[0;34m\u001b[0m\u001b[0;34m\u001b[0m\u001b[0;34m\u001b[0m\u001b[0m\n",
      "\u001b[0;31mIndexError\u001b[0m: index 25 is out of bounds for axis 0 with size 25"
     ]
    }
   ],
   "source": [
    "importances = forest.steps[1][1].feature_importances_\n",
    "\n",
    "indices = np.argsort(importances)[::-1]\n",
    "\n",
    "# Print the feature ranking\n",
    "print(\"Feature ranking:\")\n",
    "\n",
    "for f in range(X.shape[1]):\n",
    "    print(\"%d. feature %d (%f)\" % (f + 1, indices[f], importances[indices[f]]))\n",
    "\n",
    "# Plot the feature importances of the forest\n",
    "plt.figure()\n",
    "plt.title(\"Feature importances\")\n",
    "plt.bar(range(X.shape[1]), importances[indices],\n",
    "       color=\"r\", yerr=std[indices], align=\"center\")\n",
    "plt.xticks(range(X.shape[1]), indices)\n",
    "plt.xlim([-1, X.shape[1]])\n",
    "plt.show()"
   ]
  },
  {
   "cell_type": "code",
   "execution_count": 36,
   "metadata": {},
   "outputs": [
    {
     "data": {
      "text/plain": [
       "array([0.06959115, 0.04928968, 0.04970023, 0.006445  , 0.00691895,\n",
       "       0.01413679, 0.03948655, 0.06273905, 0.02338378, 0.05771108,\n",
       "       0.05640727, 0.06765522, 0.05006107, 0.04866722, 0.00631528,\n",
       "       0.00652127, 0.00915951, 0.03495797, 0.06305972, 0.02360383,\n",
       "       0.05826578, 0.06341718, 0.01645515, 0.05308212, 0.06296913])"
      ]
     },
     "execution_count": 36,
     "metadata": {},
     "output_type": "execute_result"
    }
   ],
   "source": [
    "importances"
   ]
  },
  {
   "cell_type": "code",
   "execution_count": null,
   "metadata": {},
   "outputs": [],
   "source": []
  }
 ],
 "metadata": {
  "kernelspec": {
   "display_name": "Python 3",
   "language": "python",
   "name": "python3"
  },
  "language_info": {
   "codemirror_mode": {
    "name": "ipython",
    "version": 3
   },
   "file_extension": ".py",
   "mimetype": "text/x-python",
   "name": "python",
   "nbconvert_exporter": "python",
   "pygments_lexer": "ipython3",
   "version": "3.7.3"
  }
 },
 "nbformat": 4,
 "nbformat_minor": 2
}
