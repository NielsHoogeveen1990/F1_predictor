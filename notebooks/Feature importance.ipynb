{
 "cells": [
  {
   "cell_type": "code",
   "execution_count": 1,
   "metadata": {},
   "outputs": [],
   "source": [
    "%load_ext autoreload\n",
    "%autoreload 2\n",
    "\n",
    "import pandas as pd\n",
    "import numpy as np\n",
    "import matplotlib.pyplot as plt\n",
    "%matplotlib inline\n",
    "\n",
    "\n",
    "import logging\n",
    "logging.basicConfig(level=logging.INFO)"
   ]
  },
  {
   "cell_type": "code",
   "execution_count": 9,
   "metadata": {},
   "outputs": [],
   "source": [
    "from sklearn.ensemble import RandomForestClassifier\n",
    "from formula1.preprocessing_newdata import get_clean_df"
   ]
  },
  {
   "cell_type": "code",
   "execution_count": 5,
   "metadata": {},
   "outputs": [],
   "source": [
    "pd.set_option('display.width', 500)\n",
    "pd.set_option('display.max_columns', 100) "
   ]
  },
  {
   "cell_type": "code",
   "execution_count": 30,
   "metadata": {},
   "outputs": [],
   "source": [
    "# load pickled model\n",
    "forest = pickle.load(open('../trained_models/simple_model.pkl', 'rb'))"
   ]
  },
  {
   "cell_type": "code",
   "execution_count": 40,
   "metadata": {},
   "outputs": [
    {
     "data": {
      "text/plain": [
       "[('featureunion', FeatureUnion(n_jobs=None,\n",
       "         transformer_list=[('pipeline-1', Pipeline(memory=None,\n",
       "       steps=[('dtypeselector', DTypeSelector(dtypes='number')), ('corrfilterhightotalcorrelation', CorrFilterHighTotalCorrelation()), ('simpleimputer', SimpleImputer(copy=True, fill_value=None, missing_values=nan,\n",
       "         strategy='median', verbos...s=[('dtypeselector', DTypeSelector(dtypes='object')), ('differenceencoder', DifferenceEncoder())]))],\n",
       "         transformer_weights=None)),\n",
       " ('randomforestclassifier',\n",
       "  RandomForestClassifier(bootstrap=True, class_weight=None, criterion='gini',\n",
       "              max_depth=None, max_features='auto', max_leaf_nodes=None,\n",
       "              min_impurity_decrease=0.0, min_impurity_split=None,\n",
       "              min_samples_leaf=1, min_samples_split=2,\n",
       "              min_weight_fraction_leaf=0.0, n_estimators=10, n_jobs=None,\n",
       "              oob_score=False, random_state=None, verbose=0,\n",
       "              warm_start=False))]"
      ]
     },
     "execution_count": 40,
     "metadata": {},
     "output_type": "execute_result"
    }
   ],
   "source": [
    "forest.steps"
   ]
  },
  {
   "cell_type": "code",
   "execution_count": 31,
   "metadata": {},
   "outputs": [
    {
     "data": {
      "text/plain": [
       "array([0.06959115, 0.04928968, 0.04970023, 0.006445  , 0.00691895,\n",
       "       0.01413679, 0.03948655, 0.06273905, 0.02338378, 0.05771108,\n",
       "       0.05640727, 0.06765522, 0.05006107, 0.04866722, 0.00631528,\n",
       "       0.00652127, 0.00915951, 0.03495797, 0.06305972, 0.02360383,\n",
       "       0.05826578, 0.06341718, 0.01645515, 0.05308212, 0.06296913])"
      ]
     },
     "execution_count": 31,
     "metadata": {},
     "output_type": "execute_result"
    }
   ],
   "source": [
    "forest.steps[1][1].feature_importances_"
   ]
  },
  {
   "cell_type": "code",
   "execution_count": 33,
   "metadata": {},
   "outputs": [
    {
     "name": "stdout",
     "output_type": "stream",
     "text": [
      "Feature ranking:\n",
      "1. feature 0 (0.069591)\n",
      "2. feature 11 (0.067655)\n",
      "3. feature 21 (0.063417)\n",
      "4. feature 18 (0.063060)\n",
      "5. feature 24 (0.062969)\n",
      "6. feature 7 (0.062739)\n",
      "7. feature 20 (0.058266)\n",
      "8. feature 9 (0.057711)\n",
      "9. feature 10 (0.056407)\n",
      "10. feature 23 (0.053082)\n",
      "11. feature 12 (0.050061)\n",
      "12. feature 2 (0.049700)\n",
      "13. feature 1 (0.049290)\n",
      "14. feature 13 (0.048667)\n",
      "15. feature 6 (0.039487)\n",
      "16. feature 17 (0.034958)\n",
      "17. feature 19 (0.023604)\n",
      "18. feature 8 (0.023384)\n",
      "19. feature 22 (0.016455)\n",
      "20. feature 5 (0.014137)\n",
      "21. feature 16 (0.009160)\n",
      "22. feature 4 (0.006919)\n",
      "23. feature 15 (0.006521)\n",
      "24. feature 3 (0.006445)\n",
      "25. feature 14 (0.006315)\n"
     ]
    },
    {
     "ename": "IndexError",
     "evalue": "index 25 is out of bounds for axis 0 with size 25",
     "output_type": "error",
     "traceback": [
      "\u001b[0;31m---------------------------------------------------------------------------\u001b[0m",
      "\u001b[0;31mIndexError\u001b[0m                                Traceback (most recent call last)",
      "\u001b[0;32m<ipython-input-33-73550f052ba7>\u001b[0m in \u001b[0;36m<module>\u001b[0;34m\u001b[0m\n\u001b[1;32m      7\u001b[0m \u001b[0;34m\u001b[0m\u001b[0m\n\u001b[1;32m      8\u001b[0m \u001b[0;32mfor\u001b[0m \u001b[0mf\u001b[0m \u001b[0;32min\u001b[0m \u001b[0mrange\u001b[0m\u001b[0;34m(\u001b[0m\u001b[0mX\u001b[0m\u001b[0;34m.\u001b[0m\u001b[0mshape\u001b[0m\u001b[0;34m[\u001b[0m\u001b[0;36m1\u001b[0m\u001b[0;34m]\u001b[0m\u001b[0;34m)\u001b[0m\u001b[0;34m:\u001b[0m\u001b[0;34m\u001b[0m\u001b[0;34m\u001b[0m\u001b[0m\n\u001b[0;32m----> 9\u001b[0;31m     \u001b[0mprint\u001b[0m\u001b[0;34m(\u001b[0m\u001b[0;34m\"%d. feature %d (%f)\"\u001b[0m \u001b[0;34m%\u001b[0m \u001b[0;34m(\u001b[0m\u001b[0mf\u001b[0m \u001b[0;34m+\u001b[0m \u001b[0;36m1\u001b[0m\u001b[0;34m,\u001b[0m \u001b[0mindices\u001b[0m\u001b[0;34m[\u001b[0m\u001b[0mf\u001b[0m\u001b[0;34m]\u001b[0m\u001b[0;34m,\u001b[0m \u001b[0mimportances\u001b[0m\u001b[0;34m[\u001b[0m\u001b[0mindices\u001b[0m\u001b[0;34m[\u001b[0m\u001b[0mf\u001b[0m\u001b[0;34m]\u001b[0m\u001b[0;34m]\u001b[0m\u001b[0;34m)\u001b[0m\u001b[0;34m)\u001b[0m\u001b[0;34m\u001b[0m\u001b[0;34m\u001b[0m\u001b[0m\n\u001b[0m\u001b[1;32m     10\u001b[0m \u001b[0;34m\u001b[0m\u001b[0m\n\u001b[1;32m     11\u001b[0m \u001b[0;31m# Plot the feature importances of the forest\u001b[0m\u001b[0;34m\u001b[0m\u001b[0;34m\u001b[0m\u001b[0;34m\u001b[0m\u001b[0m\n",
      "\u001b[0;31mIndexError\u001b[0m: index 25 is out of bounds for axis 0 with size 25"
     ]
    }
   ],
   "source": [
    "importances = forest.steps[1][1].feature_importances_\n",
    "\n",
    "indices = np.argsort(importances)[::-1]\n",
    "\n",
    "# Print the feature ranking\n",
    "print(\"Feature ranking:\")\n",
    "\n",
    "for f in range(X.shape[1]):\n",
    "    print(\"%d. feature %d (%f)\" % (f + 1, indices[f], importances[indices[f]]))\n",
    "\n",
    "# Plot the feature importances of the forest\n",
    "plt.figure()\n",
    "plt.title(\"Feature importances\")\n",
    "plt.bar(range(X.shape[1]), importances[indices],\n",
    "       color=\"r\", yerr=std[indices], align=\"center\")\n",
    "plt.xticks(range(X.shape[1]), indices)\n",
    "plt.xlim([-1, X.shape[1]])\n",
    "plt.show()"
   ]
  },
  {
   "cell_type": "code",
   "execution_count": 36,
   "metadata": {},
   "outputs": [
    {
     "data": {
      "text/plain": [
       "array([0.06959115, 0.04928968, 0.04970023, 0.006445  , 0.00691895,\n",
       "       0.01413679, 0.03948655, 0.06273905, 0.02338378, 0.05771108,\n",
       "       0.05640727, 0.06765522, 0.05006107, 0.04866722, 0.00631528,\n",
       "       0.00652127, 0.00915951, 0.03495797, 0.06305972, 0.02360383,\n",
       "       0.05826578, 0.06341718, 0.01645515, 0.05308212, 0.06296913])"
      ]
     },
     "execution_count": 36,
     "metadata": {},
     "output_type": "execute_result"
    }
   ],
   "source": [
    "importances"
   ]
  },
  {
   "cell_type": "code",
   "execution_count": null,
   "metadata": {},
   "outputs": [],
   "source": []
  }
 ],
 "metadata": {
  "kernelspec": {
   "display_name": "Python 3",
   "language": "python",
   "name": "python3"
  },
  "language_info": {
   "codemirror_mode": {
    "name": "ipython",
    "version": 3
   },
   "file_extension": ".py",
   "mimetype": "text/x-python",
   "name": "python",
   "nbconvert_exporter": "python",
   "pygments_lexer": "ipython3",
   "version": "3.7.3"
  }
 },
 "nbformat": 4,
 "nbformat_minor": 2
}
